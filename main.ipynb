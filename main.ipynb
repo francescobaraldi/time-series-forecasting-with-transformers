{
 "cells": [
  {
   "cell_type": "code",
   "execution_count": null,
   "metadata": {},
   "outputs": [],
   "source": [
    "import numpy as np\n",
    "import torch\n",
    "import joblib\n",
    "import yfinance as yf\n",
    "\n",
    "from model import TransformerStd\n",
    "from inference import inference"
   ]
  },
  {
   "cell_type": "code",
   "execution_count": null,
   "metadata": {},
   "outputs": [],
   "source": [
    "best_model_path = \"best_models/best_model_weights.pth\"\n",
    "scaler_path = \"weights/scaler_split_50.gz\"\n",
    "inference_path = \"inference_results/\""
   ]
  },
  {
   "cell_type": "code",
   "execution_count": null,
   "metadata": {},
   "outputs": [],
   "source": [
    "device = \"cuda\" if torch.cuda.is_available() else \"cpu\"\n",
    "window_len = 90\n",
    "forecast_len = 30\n",
    "input_size = 1\n",
    "output_size = 1\n",
    "num_layers = 1\n",
    "d_model = 128\n",
    "num_heads = 8\n",
    "dropout = 0\n",
    "feedforward_dim = 256\n",
    "positional_encoding = \"sinusoidal\"\n",
    "\n",
    "model = TransformerStd(window_len=window_len, target_len=forecast_len, num_encoder_layers=num_layers,\n",
    "                       num_decoder_layers=num_layers, input_size=input_size, output_size=output_size, d_model=d_model,\n",
    "                       num_heads=num_heads, feedforward_dim=feedforward_dim, dropout=dropout,\n",
    "                       positional_encoding=positional_encoding)\n",
    "model.load_state_dict(torch.load(best_model_path, map_location=torch.device(device)))"
   ]
  },
  {
   "cell_type": "code",
   "execution_count": null,
   "metadata": {},
   "outputs": [],
   "source": [
    "print(\"Forecasting the SP500 index closing price for the next 30 days...\")\n",
    "\n",
    "n = window_len + forecast_len - 1\n",
    "data = yf.download('SPY').iloc[-n:]\n",
    "data = data[['Close']].to_numpy()\n",
    "scaler = joblib.load(scaler_path)\n",
    "data_scaled = scaler.transform(data)\n",
    "input = torch.from_numpy(data_scaled).unsqueeze(0)\n",
    "inference(device=device, model=model, input=input, window_len=window_len, forecast_len=forecast_len, scaler=scaler,\n",
    "          save_path=inference_path)\n",
    "print(f\"The prediction has been saved correctly in folder {inference_path}.\")"
   ]
  }
 ],
 "metadata": {
  "kernelspec": {
   "display_name": "Python 3.8.8 ('base')",
   "language": "python",
   "name": "python3"
  },
  "language_info": {
   "codemirror_mode": {
    "name": "ipython",
    "version": 3
   },
   "file_extension": ".py",
   "mimetype": "text/x-python",
   "name": "python",
   "nbconvert_exporter": "python",
   "pygments_lexer": "ipython3",
   "version": "3.8.8"
  },
  "orig_nbformat": 4,
  "vscode": {
   "interpreter": {
    "hash": "9ac88fb7088578c98ddf37923d050ab762e45c42e2a44ad2a5e146f45afe37fd"
   }
  }
 },
 "nbformat": 4,
 "nbformat_minor": 2
}
