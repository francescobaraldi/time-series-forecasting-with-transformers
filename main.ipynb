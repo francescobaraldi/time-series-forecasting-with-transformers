{
  "cells": [
    {
      "cell_type": "code",
      "execution_count": null,
      "metadata": {
        "id": "m1d36dtwULp6"
      },
      "outputs": [],
      "source": [
        "# === colab configuration ===\n",
        "# Skip this cell if running demo file locally!\n",
        "\n",
        "from google.colab import drive\n",
        "import sys\n",
        "\n",
        "# setting paths\n",
        "repository_path = '/content/time-series-forecasting-with-transformers/'\n",
        "dataset_path = repository_path + 'datasets/spx.csv'\n",
        "sys.path.insert(0, repository_path)\n",
        "\n",
        "# cloning project repository and downloading dataset\n",
        "# drive.mount('/content/drive')\n",
        "! test ! -d $repository_path && git clone https://github.com/francescobaraldi/time-series-forecasting-with-transformers\n",
        "# ! test ! -d $dataset_path && cp -R $dataset_path_drive $dataset_path\n",
        "%cd $repository_path\n",
        "\n",
        "# setting branch and pulling updates\n",
        "branch = 'main'\n",
        "! git checkout $branch\n",
        "! git pull origin $branch\n",
        "\n",
        "executing_on_colab = True"
      ]
    },
    {
      "cell_type": "code",
      "execution_count": 2,
      "metadata": {
        "id": "5e2HPlH_ULp8"
      },
      "outputs": [],
      "source": [
        "import torch\n",
        "import torch.nn as nn\n",
        "import torch.optim as optim\n",
        "from torch.utils.data import DataLoader\n",
        "import numpy as np\n",
        "import pandas as pd\n",
        "import matplotlib.pyplot as plt\n",
        "import datetime\n",
        "import matplotlib.dates as mdates\n",
        "from tqdm import tqdm\n",
        "\n",
        "from dataset import StockDatasetSW\n",
        "from model import Transformer, DotProductAttention\n",
        "from eval_plot import eval, plot_scores\n",
        "\n",
        "try:\n",
        "    executing_on_colab\n",
        "except NameError:\n",
        "    executing_on_colab = False"
      ]
    },
    {
      "cell_type": "code",
      "execution_count": null,
      "metadata": {
        "id": "kWjADPlUULp9"
      },
      "outputs": [],
      "source": [
        "# Testing on attention operator\n",
        "d = 1\n",
        "model = DotProductAttention()\n",
        "queries = torch.rand((32, 7, d))\n",
        "keys = torch.rand((32, 7, d))\n",
        "values = torch.rand((32, 7, 1024))\n",
        "out = model(queries, keys, values)"
      ]
    },
    {
      "cell_type": "code",
      "execution_count": 3,
      "metadata": {
        "colab": {
          "base_uri": "https://localhost:8080/",
          "height": 269
        },
        "id": "emmorBdRULp-",
        "outputId": "a734d8aa-d3ae-4522-b997-340abe858972"
      },
      "outputs": [
        {
          "output_type": "display_data",
          "data": {
            "text/plain": [
              "<Figure size 432x288 with 1 Axes>"
            ],
            "image/png": "[encoded data removed]"
          },
          "metadata": {
            "needs_background": "light"
          }
        }
      ],
      "source": [
        "if not executing_on_colab:\n",
        "    dataset_path = \"datasets/spx.csv\"\n",
        "sp500 = pd.read_csv(dataset_path)\n",
        "sp500.head()\n",
        "plt.plot(sp500['close'])\n",
        "plt.show()"
      ]
    },
    {
      "cell_type": "code",
      "execution_count": null,
      "metadata": {
        "id": "-NS5p3yuULp-"
      },
      "outputs": [],
      "source": [
        "dates = [datetime.datetime.strptime(date, '%Y-%m-%d').date() for date in sp500['Date']]\n",
        "dates = mdates.drange(dates[0], dates[-1], datetime.timedelta(days=30))\n",
        "plt.gca().xaxis.set_major_formatter(mdates.DateFormatter('%Y-%m-%d'))\n",
        "plt.gca().xaxis.set_major_locator(mdates.DayLocator(interval=5))\n",
        "plt.plot(dates, sp500['Close'])\n",
        "plt.gcf().autofmt_xdate()\n",
        "plt.show()"
      ]
    },
    {
      "cell_type": "code",
      "execution_count": 4,
      "metadata": {
        "id": "CLvXi2CIULp_"
      },
      "outputs": [],
      "source": [
        "data = sp500['close'].to_numpy()\n",
        "data = torch.from_numpy(data).to(torch.float32)"
      ]
    },
    {
      "cell_type": "code",
      "execution_count": 5,
      "metadata": {
        "colab": {
          "base_uri": "https://localhost:8080/",
          "height": 1000
        },
        "id": "uVjAhyuTULp_",
        "outputId": "92affde7-8da9-4955-ea12-4cf736fc24d4"
      },
      "outputs": [
        {
          "output_type": "stream",
          "name": "stderr",
          "text": [
            "\r  0%|          | 0/10 [00:00<?, ?it/s]"
          ]
        },
        {
          "output_type": "stream",
          "name": "stdout",
          "text": [
            "Epoch 0 - Train MAE 807.043212890625 - Test MAE 1682.6114501953125\n",
            "loss 797.115\n",
            "loss 358.883\n",
            "loss 404.503\n",
            "loss 399.701\n"
          ]
        },
        {
          "output_type": "stream",
          "name": "stderr",
          "text": [
            "\r 10%|█         | 1/10 [00:08<01:13,  8.18s/it]"
          ]
        },
        {
          "output_type": "stream",
          "name": "stdout",
          "text": [
            "Epoch 1 - Train MAE 397.0794982910156 - Test MAE 834.8780517578125\n",
            "loss 454.411\n",
            "loss 386.782\n",
            "loss 435.217\n",
            "loss 388.377\n"
          ]
        },
        {
          "output_type": "stream",
          "name": "stderr",
          "text": [
            "\r 20%|██        | 2/10 [00:13<00:49,  6.23s/it]"
          ]
        },
        {
          "output_type": "stream",
          "name": "stdout",
          "text": [
            "Epoch 2 - Train MAE 397.4472961425781 - Test MAE 927.6739501953125\n",
            "loss 362.260\n",
            "loss 379.082\n",
            "loss 372.388\n",
            "loss 420.584\n"
          ]
        },
        {
          "output_type": "stream",
          "name": "stderr",
          "text": [
            "\r 30%|███       | 3/10 [00:17<00:39,  5.63s/it]"
          ]
        },
        {
          "output_type": "stream",
          "name": "stdout",
          "text": [
            "Epoch 3 - Train MAE 396.9698181152344 - Test MAE 856.3637084960938\n",
            "loss 400.835\n",
            "loss 420.973\n",
            "loss 357.728\n",
            "loss 372.349\n"
          ]
        },
        {
          "output_type": "stream",
          "name": "stderr",
          "text": [
            "\r 40%|████      | 4/10 [00:22<00:32,  5.34s/it]"
          ]
        },
        {
          "output_type": "stream",
          "name": "stdout",
          "text": [
            "Epoch 4 - Train MAE 401.3985290527344 - Test MAE 768.1372680664062\n",
            "loss 388.018\n",
            "loss 419.030\n",
            "loss 361.002\n",
            "loss 366.933\n"
          ]
        },
        {
          "output_type": "stream",
          "name": "stderr",
          "text": [
            "\r 50%|█████     | 5/10 [00:27<00:26,  5.21s/it]"
          ]
        },
        {
          "output_type": "stream",
          "name": "stdout",
          "text": [
            "Epoch 5 - Train MAE 397.101318359375 - Test MAE 894.1909790039062\n",
            "loss 421.969\n",
            "loss 421.990\n",
            "loss 402.404\n",
            "loss 420.812\n"
          ]
        },
        {
          "output_type": "stream",
          "name": "stderr",
          "text": [
            "\r 60%|██████    | 6/10 [00:32<00:20,  5.12s/it]"
          ]
        },
        {
          "output_type": "stream",
          "name": "stdout",
          "text": [
            "Epoch 6 - Train MAE 397.0581970214844 - Test MAE 844.2147216796875\n",
            "loss 431.737\n",
            "loss 404.076\n",
            "loss 423.467\n",
            "loss 452.959\n"
          ]
        },
        {
          "output_type": "stream",
          "name": "stderr",
          "text": [
            "\r 70%|███████   | 7/10 [00:37<00:15,  5.05s/it]"
          ]
        },
        {
          "output_type": "stream",
          "name": "stdout",
          "text": [
            "Epoch 7 - Train MAE 397.84832763671875 - Test MAE 816.4898071289062\n",
            "loss 407.744\n",
            "loss 371.833\n",
            "loss 398.696\n",
            "loss 394.033\n"
          ]
        },
        {
          "output_type": "stream",
          "name": "stderr",
          "text": [
            "\r 80%|████████  | 8/10 [00:42<00:10,  5.00s/it]"
          ]
        },
        {
          "output_type": "stream",
          "name": "stdout",
          "text": [
            "Epoch 8 - Train MAE 400.49346923828125 - Test MAE 775.1622924804688\n",
            "loss 377.370\n",
            "loss 427.252\n",
            "loss 393.622\n",
            "loss 440.899\n"
          ]
        },
        {
          "output_type": "stream",
          "name": "stderr",
          "text": [
            "\r 90%|█████████ | 9/10 [00:47<00:04,  4.98s/it]"
          ]
        },
        {
          "output_type": "stream",
          "name": "stdout",
          "text": [
            "Epoch 9 - Train MAE 398.6094970703125 - Test MAE 809.2645263671875\n",
            "loss 403.750\n",
            "loss 392.655\n",
            "loss 376.359\n",
            "loss 418.400\n"
          ]
        },
        {
          "output_type": "stream",
          "name": "stderr",
          "text": [
            "100%|██████████| 10/10 [00:52<00:00,  5.24s/it]\n"
          ]
        },
        {
          "output_type": "display_data",
          "data": {
            "text/plain": [
              "<Figure size 1440x432 with 1 Axes>"
            ],
            "image/png": "[encoded data removed]"
          },
          "metadata": {
            "needs_background": "light"
          }
        }
      ],
      "source": [
        "device = 'cuda' if torch.cuda.is_available() else 'cpu'\n",
        "batch_size = 32\n",
        "learning_rate = 0.01\n",
        "epochs = 10\n",
        "window_len = 7\n",
        "output_len = 1\n",
        "trainset = data[0:int(len(data) * 0.7)]\n",
        "testset = data[int(len(data) * 0.7):]\n",
        "train_dataset = StockDatasetSW(trainset, window_len, output_len)\n",
        "test_dataset = StockDatasetSW(testset, window_len, output_len)\n",
        "train_dl = DataLoader(train_dataset, batch_size=batch_size, shuffle=True, drop_last=True)\n",
        "test_dl = DataLoader(test_dataset, batch_size=batch_size, shuffle=False, drop_last=True)\n",
        "model = Transformer(seq_len=window_len, num_encoder=6, input_size=1, embed_dim=512, num_heads=1, feedforward_dim=1024).to(device)\n",
        "loss_fun = nn.L1Loss()\n",
        "optimizer = optim.Adam(model.parameters(), lr=learning_rate)\n",
        "\n",
        "train_maes = []\n",
        "test_maes = []\n",
        "\n",
        "for e in tqdm(range(epochs)):\n",
        "    model.eval()\n",
        "    \n",
        "    train_mae = eval(model, train_dl, device)\n",
        "    test_mae = eval(model, test_dl, device)\n",
        "    train_maes.append(train_mae.cpu())\n",
        "    test_maes.append(test_mae.cpu())\n",
        "    \n",
        "    print(f\"Epoch {e} - Train MAE {train_mae} - Test MAE {test_mae}\")\n",
        "    \n",
        "    model.train()\n",
        "    for i, (seq, trg) in enumerate(train_dl):\n",
        "        seq, trg = seq.to(device), trg.to(device)\n",
        "        optimizer.zero_grad()\n",
        "        seq_mask = torch.triu(torch.ones(window_len, window_len) * float('-inf'), diagonal=1).to(device)\n",
        "        out = model(seq, seq_mask)\n",
        "        loss = loss_fun(out, trg)\n",
        "        if i % 50 == 0:\n",
        "            print(f'loss {loss.cpu().item():.3f}')\n",
        "        loss.backward()\n",
        "        optimizer.step()\n",
        "\n",
        "plot_scores(train_maes, test_maes)"
      ]
    }
  ],
  "metadata": {
    "kernelspec": {
      "display_name": "Python 3.8.8 ('base')",
      "language": "python",
      "name": "python3"
    },
    "language_info": {
      "codemirror_mode": {
        "name": "ipython",
        "version": 3
      },
      "file_extension": ".py",
      "mimetype": "text/x-python",
      "name": "python",
      "nbconvert_exporter": "python",
      "pygments_lexer": "ipython3",
      "version": "3.8.8"
    },
    "orig_nbformat": 4,
    "vscode": {
      "interpreter": {
        "hash": "9ac88fb7088578c98ddf37923d050ab762e45c42e2a44ad2a5e146f45afe37fd"
      }
    },
    "colab": {
      "provenance": [],
      "collapsed_sections": []
    },
    "accelerator": "GPU"
  },
  "nbformat": 4,
  "nbformat_minor": 0
}