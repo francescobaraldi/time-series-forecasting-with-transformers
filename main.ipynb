{
  "cells": [
    {
      "cell_type": "code",
      "execution_count": null,
      "metadata": {
        "id": "m1d36dtwULp6"
      },
      "outputs": [],
      "source": [
        "# === colab configuration ===\n",
        "# Skip this cell if running demo file locally!\n",
        "\n",
        "from google.colab import drive\n",
        "import sys\n",
        "\n",
        "# setting paths\n",
        "repository_path = '/content/time-series-forecasting-with-transformers/'\n",
        "datasets_path = repository_path + 'datasets/'\n",
        "sys.path.insert(0, repository_path)\n",
        "\n",
        "# cloning project repository and downloading dataset\n",
        "# drive.mount('/content/drive')\n",
        "! test ! -d $repository_path && git clone https://github.com/francescobaraldi/time-series-forecasting-with-transformers\n",
        "# ! test ! -d $dataset_path && cp -R $dataset_path_drive $dataset_path\n",
        "%cd $repository_path\n",
        "\n",
        "# setting branch and pulling updates\n",
        "branch = 'main'\n",
        "! git checkout $branch\n",
        "! git pull origin $branch\n",
        "\n",
        "executing_on_colab = True"
      ]
    },
    {
      "cell_type": "code",
      "execution_count": 1,
      "metadata": {
        "id": "5e2HPlH_ULp8"
      },
      "outputs": [],
      "source": [
        "import torch\n",
        "import torch.nn as nn\n",
        "import torch.optim as optim\n",
        "from torch.utils.data import DataLoader\n",
        "import numpy as np\n",
        "import pandas as pd\n",
        "import matplotlib.pyplot as plt\n",
        "import datetime\n",
        "import matplotlib.dates as mdates\n",
        "from tqdm import tqdm\n",
        "from sklearn.preprocessing import MinMaxScaler\n",
        "\n",
        "from dataset import StockDatasetSW_multistep, StockDatasetSW_singlestep, YahooDatasetSW_singlestep\n",
        "from model import Transformer, TransformerDecoder, TransformerDecoder_v2, DotProductAttention\n",
        "from eval_plot import eval_mae, eval_mae_decoder, plot_scores\n",
        "from utils import scaler, MyMinMaxScaler\n",
        "\n",
        "try:\n",
        "    executing_on_colab\n",
        "except NameError:\n",
        "    executing_on_colab = False"
      ]
    },
    {
      "cell_type": "markdown",
      "metadata": {},
      "source": [
        "## Load datasets"
      ]
    },
    {
      "cell_type": "code",
      "execution_count": 2,
      "metadata": {
        "colab": {
          "base_uri": "https://localhost:8080/",
          "height": 269
        },
        "id": "emmorBdRULp-",
        "outputId": "a734d8aa-d3ae-4522-b997-340abe858972"
      },
      "outputs": [],
      "source": [
        "if not executing_on_colab:\n",
        "    sp500_dataset_path = \"datasets/spx.csv\"\n",
        "    yahoo_dataset_path = \"datasets/yahoo_stock.csv\"\n",
        "else:\n",
        "    sp500_dataset_path = datasets_path + \"spx.csv\"\n",
        "    yahoo_dataset_path = datasets_path + \"yahoo_stock.csv\"\n",
        "sp500 = pd.read_csv(sp500_dataset_path)\n",
        "yahoo = pd.read_csv(yahoo_dataset_path)"
      ]
    },
    {
      "cell_type": "markdown",
      "metadata": {},
      "source": [
        "## Prepare sp500 dataset"
      ]
    },
    {
      "cell_type": "code",
      "execution_count": 3,
      "metadata": {},
      "outputs": [],
      "source": [
        "sp500_data = sp500['close'].to_numpy()\n",
        "sp500_data = torch.from_numpy(sp500_data).to(torch.float32)\n",
        "\n",
        "sp500_trainset = sp500_data[0:int(len(sp500_data) * 0.7)]\n",
        "sp500_testset = sp500_data[int(len(sp500_data) * 0.7):]\n",
        "\n",
        "sp500_trainset_scaled, sp500_testset_scaled = scaler(sp500_trainset, sp500_testset)"
      ]
    },
    {
      "cell_type": "markdown",
      "metadata": {},
      "source": [
        "## Prepare yahoo dataset"
      ]
    },
    {
      "cell_type": "code",
      "execution_count": 4,
      "metadata": {
        "id": "CLvXi2CIULp_"
      },
      "outputs": [],
      "source": [
        "date_time = pd.to_datetime(yahoo['Date'], format='%Y.%m.%d')\n",
        "day = 24*60*60\n",
        "year = (365.2425)*day\n",
        "timestamp_s = date_time.map(pd.Timestamp.timestamp)\n",
        "yahoo['Day sin'] = np.sin(timestamp_s * (2 * np.pi / day))\n",
        "yahoo['Day cos'] = np.cos(timestamp_s * (2 * np.pi / day))\n",
        "yahoo['Year sin'] = np.sin(timestamp_s * (2 * np.pi / year))\n",
        "yahoo['Year cos'] = np.cos(timestamp_s * (2 * np.pi / year))\n",
        "\n",
        "yahoo_data = yahoo[['High', 'Low', 'Open', 'Close', 'Volume', 'Adj Close', 'Day sin', 'Day cos', 'Year sin', 'Year cos']]\n",
        "yahoo_class_idx = 3\n",
        "yahoo_trainset = yahoo_data.iloc[:int(len(yahoo_data) * 0.7)]\n",
        "yahoo_testset = yahoo_data.iloc[int(len(yahoo_data) * 0.7):]\n",
        "scaler = MinMaxScaler()\n",
        "scaler.fit(yahoo_trainset)\n",
        "yahoo_trainset_scaled = scaler.transform(yahoo_trainset)\n",
        "yahoo_testset_scaled = scaler.transform(yahoo_testset)"
      ]
    },
    {
      "cell_type": "markdown",
      "metadata": {},
      "source": [
        "## Transformer std."
      ]
    },
    {
      "cell_type": "code",
      "execution_count": null,
      "metadata": {
        "colab": {
          "base_uri": "https://localhost:8080/",
          "height": 1000
        },
        "id": "uVjAhyuTULp_",
        "outputId": "92affde7-8da9-4955-ea12-4cf736fc24d4"
      },
      "outputs": [],
      "source": [
        "trainset, testset = yahoo_trainset_scaled, yahoo_testset_scaled\n",
        "\n",
        "device = 'cuda' if torch.cuda.is_available() else 'cpu'\n",
        "batch_size = 32\n",
        "learning_rate = 0.01\n",
        "epochs = 10\n",
        "window_len = 7\n",
        "output_len = 3\n",
        "train_dataset = StockDatasetSW_multistep(trainset, window_len, output_len)\n",
        "test_dataset = StockDatasetSW_multistep(testset, window_len, output_len)\n",
        "train_dl = DataLoader(train_dataset, batch_size=batch_size, shuffle=True, drop_last=True)\n",
        "test_dl = DataLoader(test_dataset, batch_size=batch_size, shuffle=False, drop_last=True)\n",
        "model = Transformer(seq_len=window_len, num_encoder=6, num_decoder=6, input_size=1, output_size=output_len, d_model=512, num_heads=8, feedforward_dim=1024).to(device)\n",
        "loss_fun = nn.L1Loss()\n",
        "optimizer = optim.Adam(model.parameters(), lr=learning_rate)\n",
        "train_maes = []\n",
        "test_maes = []\n",
        "for e in tqdm(range(epochs)):\n",
        "    model.eval()\n",
        "    train_mae = eval_mae(model, train_dl, device)\n",
        "    test_mae = eval_mae(model, test_dl, device)\n",
        "    train_maes.append(train_mae.cpu())\n",
        "    test_maes.append(test_mae.cpu())\n",
        "    print(f\"Epoch {e} - Train MAE {train_mae} - Test MAE {test_mae}\")\n",
        "    model.train()\n",
        "    for i, (src, trg, trg_y) in enumerate(train_dl):\n",
        "        src, trg, trg_y = src.to(device), trg.to(device), trg_y.to(device)\n",
        "        optimizer.zero_grad()\n",
        "        out = model(src, trg)\n",
        "        loss = loss_fun(out, trg_y)\n",
        "        if i % 50 == 0:\n",
        "            print(f'loss {loss.cpu().item():.3f}')\n",
        "        loss.backward()\n",
        "        optimizer.step()\n",
        "plot_scores(train_maes, test_maes)"
      ]
    },
    {
      "cell_type": "markdown",
      "metadata": {},
      "source": [
        "## Transformer decoder"
      ]
    },
    {
      "cell_type": "code",
      "execution_count": 6,
      "metadata": {},
      "outputs": [
        {
          "name": "stderr",
          "output_type": "stream",
          "text": [
            "  0%|          | 0/50 [00:00<?, ?it/s]"
          ]
        },
        {
          "name": "stdout",
          "output_type": "stream",
          "text": [
            "Epoch 0 - Train MAE 2456.787353515625 - Test MAE 3071.738037109375\n",
            "loss 2361.023193\n"
          ]
        },
        {
          "name": "stderr",
          "output_type": "stream",
          "text": [
            "  4%|▍         | 2/50 [00:00<00:15,  3.06it/s]"
          ]
        },
        {
          "name": "stdout",
          "output_type": "stream",
          "text": [
            "Epoch 1 - Train MAE 2439.67236328125 - Test MAE 3054.35693359375\n",
            "loss 2506.852051\n"
          ]
        },
        {
          "name": "stderr",
          "output_type": "stream",
          "text": [
            "  6%|▌         | 3/50 [00:00<00:12,  3.62it/s]"
          ]
        },
        {
          "name": "stdout",
          "output_type": "stream",
          "text": [
            "Epoch 2 - Train MAE 2398.79296875 - Test MAE 3015.427734375\n",
            "loss 2413.199951\n"
          ]
        },
        {
          "name": "stderr",
          "output_type": "stream",
          "text": [
            "  8%|▊         | 4/50 [00:01<00:11,  3.88it/s]"
          ]
        },
        {
          "name": "stdout",
          "output_type": "stream",
          "text": [
            "Epoch 3 - Train MAE 2331.30712890625 - Test MAE 2946.666015625\n",
            "loss 2285.625977\n"
          ]
        },
        {
          "name": "stderr",
          "output_type": "stream",
          "text": [
            " 10%|█         | 5/50 [00:01<00:11,  3.81it/s]"
          ]
        },
        {
          "name": "stdout",
          "output_type": "stream",
          "text": [
            "Epoch 4 - Train MAE 2231.64013671875 - Test MAE 2845.86376953125\n",
            "loss 2333.245850\n"
          ]
        },
        {
          "name": "stderr",
          "output_type": "stream",
          "text": [
            " 12%|█▏        | 6/50 [00:01<00:11,  3.96it/s]"
          ]
        },
        {
          "name": "stdout",
          "output_type": "stream",
          "text": [
            "Epoch 5 - Train MAE 2097.0361328125 - Test MAE 2712.551513671875\n",
            "loss 2104.378418\n"
          ]
        },
        {
          "name": "stderr",
          "output_type": "stream",
          "text": [
            " 14%|█▍        | 7/50 [00:01<00:10,  4.19it/s]"
          ]
        },
        {
          "name": "stdout",
          "output_type": "stream",
          "text": [
            "Epoch 6 - Train MAE 1930.3489990234375 - Test MAE 2546.812744140625\n",
            "loss 1969.461304\n",
            "Epoch 7 - Train MAE 1733.8331298828125 - Test MAE 2348.783935546875\n"
          ]
        },
        {
          "name": "stderr",
          "output_type": "stream",
          "text": [
            " 16%|█▌        | 8/50 [00:02<00:09,  4.40it/s]"
          ]
        },
        {
          "name": "stdout",
          "output_type": "stream",
          "text": [
            "loss 1697.752319\n",
            "Epoch 8 - Train MAE 1504.3658447265625 - Test MAE 2118.783447265625\n"
          ]
        },
        {
          "name": "stderr",
          "output_type": "stream",
          "text": [
            " 18%|█▊        | 9/50 [00:02<00:09,  4.51it/s]"
          ]
        },
        {
          "name": "stdout",
          "output_type": "stream",
          "text": [
            "loss 1510.736084\n"
          ]
        },
        {
          "name": "stderr",
          "output_type": "stream",
          "text": [
            " 20%|██        | 10/50 [00:02<00:08,  4.59it/s]"
          ]
        },
        {
          "name": "stdout",
          "output_type": "stream",
          "text": [
            "Epoch 9 - Train MAE 1241.509765625 - Test MAE 1857.2088623046875\n",
            "loss 1294.538452\n"
          ]
        },
        {
          "name": "stderr",
          "output_type": "stream",
          "text": [
            " 22%|██▏       | 11/50 [00:02<00:08,  4.66it/s]"
          ]
        },
        {
          "name": "stdout",
          "output_type": "stream",
          "text": [
            "Epoch 10 - Train MAE 946.7892456054688 - Test MAE 1564.4835205078125\n",
            "loss 995.366516\n",
            "Epoch 11 - Train MAE 624.9581298828125 - Test MAE 1241.065673828125\n",
            "loss 575.118958\n"
          ]
        },
        {
          "name": "stderr",
          "output_type": "stream",
          "text": [
            " 26%|██▌       | 13/50 [00:03<00:07,  4.90it/s]"
          ]
        },
        {
          "name": "stdout",
          "output_type": "stream",
          "text": [
            "Epoch 12 - Train MAE 348.20355224609375 - Test MAE 913.7611694335938\n",
            "loss 270.188202\n",
            "Epoch 13 - Train MAE 276.87396240234375 - Test MAE 728.8915405273438\n",
            "loss 267.632172\n"
          ]
        },
        {
          "name": "stderr",
          "output_type": "stream",
          "text": [
            " 30%|███       | 15/50 [00:03<00:06,  5.06it/s]"
          ]
        },
        {
          "name": "stdout",
          "output_type": "stream",
          "text": [
            "Epoch 14 - Train MAE 261.0033874511719 - Test MAE 638.7306518554688\n",
            "loss 254.534760\n",
            "Epoch 15 - Train MAE 260.1115417480469 - Test MAE 628.5868530273438\n",
            "loss 231.842529\n"
          ]
        },
        {
          "name": "stderr",
          "output_type": "stream",
          "text": [
            " 34%|███▍      | 17/50 [00:03<00:06,  5.10it/s]"
          ]
        },
        {
          "name": "stdout",
          "output_type": "stream",
          "text": [
            "Epoch 16 - Train MAE 259.6256408691406 - Test MAE 599.1773681640625\n",
            "loss 239.232391\n",
            "Epoch 17 - Train MAE 259.3340759277344 - Test MAE 607.26318359375\n",
            "loss 256.998993\n"
          ]
        },
        {
          "name": "stderr",
          "output_type": "stream",
          "text": [
            " 38%|███▊      | 19/50 [00:04<00:06,  5.10it/s]"
          ]
        },
        {
          "name": "stdout",
          "output_type": "stream",
          "text": [
            "Epoch 18 - Train MAE 259.44049072265625 - Test MAE 603.1616821289062\n",
            "loss 265.025909\n",
            "Epoch 19 - Train MAE 259.9825439453125 - Test MAE 612.3953247070312\n",
            "loss 256.250061\n"
          ]
        },
        {
          "name": "stderr",
          "output_type": "stream",
          "text": [
            " 42%|████▏     | 21/50 [00:04<00:05,  5.12it/s]"
          ]
        },
        {
          "name": "stdout",
          "output_type": "stream",
          "text": [
            "Epoch 20 - Train MAE 260.44451904296875 - Test MAE 615.60400390625\n",
            "loss 221.902695\n",
            "Epoch 21 - Train MAE 260.74908447265625 - Test MAE 605.2362060546875\n",
            "loss 308.435608\n"
          ]
        },
        {
          "name": "stderr",
          "output_type": "stream",
          "text": [
            " 46%|████▌     | 23/50 [00:05<00:05,  5.07it/s]"
          ]
        },
        {
          "name": "stdout",
          "output_type": "stream",
          "text": [
            "Epoch 22 - Train MAE 261.1312561035156 - Test MAE 598.4710693359375\n",
            "loss 284.241638\n",
            "Epoch 23 - Train MAE 260.22882080078125 - Test MAE 599.687744140625\n",
            "loss 269.276825\n"
          ]
        },
        {
          "name": "stderr",
          "output_type": "stream",
          "text": [
            " 50%|█████     | 25/50 [00:05<00:05,  4.87it/s]"
          ]
        },
        {
          "name": "stdout",
          "output_type": "stream",
          "text": [
            "Epoch 24 - Train MAE 260.2314758300781 - Test MAE 606.0361938476562\n",
            "loss 238.416824\n"
          ]
        },
        {
          "name": "stderr",
          "output_type": "stream",
          "text": [
            " 52%|█████▏    | 26/50 [00:05<00:04,  4.84it/s]"
          ]
        },
        {
          "name": "stdout",
          "output_type": "stream",
          "text": [
            "Epoch 25 - Train MAE 260.81890869140625 - Test MAE 607.777099609375\n",
            "loss 289.817810\n"
          ]
        },
        {
          "name": "stderr",
          "output_type": "stream",
          "text": [
            " 54%|█████▍    | 27/50 [00:05<00:04,  4.84it/s]"
          ]
        },
        {
          "name": "stdout",
          "output_type": "stream",
          "text": [
            "Epoch 26 - Train MAE 261.3747863769531 - Test MAE 598.3448486328125\n",
            "loss 210.327286\n"
          ]
        },
        {
          "name": "stderr",
          "output_type": "stream",
          "text": [
            " 56%|█████▌    | 28/50 [00:06<00:04,  4.85it/s]"
          ]
        },
        {
          "name": "stdout",
          "output_type": "stream",
          "text": [
            "Epoch 27 - Train MAE 260.1789855957031 - Test MAE 609.1824340820312\n",
            "loss 246.469513\n"
          ]
        },
        {
          "name": "stderr",
          "output_type": "stream",
          "text": [
            " 58%|█████▊    | 29/50 [00:06<00:04,  4.88it/s]"
          ]
        },
        {
          "name": "stdout",
          "output_type": "stream",
          "text": [
            "Epoch 28 - Train MAE 260.6515808105469 - Test MAE 598.0860595703125\n",
            "loss 291.287079\n"
          ]
        },
        {
          "name": "stderr",
          "output_type": "stream",
          "text": [
            " 60%|██████    | 30/50 [00:06<00:04,  4.88it/s]"
          ]
        },
        {
          "name": "stdout",
          "output_type": "stream",
          "text": [
            "Epoch 29 - Train MAE 260.8800048828125 - Test MAE 605.3008422851562\n",
            "loss 204.741226\n",
            "Epoch 30 - Train MAE 261.0697937011719 - Test MAE 599.3667602539062\n"
          ]
        },
        {
          "name": "stderr",
          "output_type": "stream",
          "text": [
            " 62%|██████▏   | 31/50 [00:06<00:03,  4.92it/s]"
          ]
        },
        {
          "name": "stdout",
          "output_type": "stream",
          "text": [
            "loss 262.998901\n",
            "Epoch 31 - Train MAE 260.95361328125 - Test MAE 599.577392578125\n",
            "loss 248.157623\n"
          ]
        },
        {
          "name": "stderr",
          "output_type": "stream",
          "text": [
            " 66%|██████▌   | 33/50 [00:07<00:03,  5.04it/s]"
          ]
        },
        {
          "name": "stdout",
          "output_type": "stream",
          "text": [
            "Epoch 32 - Train MAE 261.4907531738281 - Test MAE 609.2394409179688\n",
            "loss 240.169327\n",
            "Epoch 33 - Train MAE 261.126220703125 - Test MAE 606.5906982421875\n"
          ]
        },
        {
          "name": "stderr",
          "output_type": "stream",
          "text": [
            " 68%|██████▊   | 34/50 [00:07<00:03,  4.74it/s]"
          ]
        },
        {
          "name": "stdout",
          "output_type": "stream",
          "text": [
            "loss 243.205246\n"
          ]
        },
        {
          "name": "stderr",
          "output_type": "stream",
          "text": [
            " 70%|███████   | 35/50 [00:07<00:03,  4.72it/s]"
          ]
        },
        {
          "name": "stdout",
          "output_type": "stream",
          "text": [
            "Epoch 34 - Train MAE 260.7906799316406 - Test MAE 601.711669921875\n",
            "loss 259.456360\n",
            "Epoch 35 - Train MAE 259.8863525390625 - Test MAE 601.170166015625\n"
          ]
        },
        {
          "name": "stderr",
          "output_type": "stream",
          "text": [
            " 72%|███████▏  | 36/50 [00:07<00:02,  4.77it/s]"
          ]
        },
        {
          "name": "stdout",
          "output_type": "stream",
          "text": [
            "loss 262.285217\n",
            "Epoch 36 - Train MAE 260.06866455078125 - Test MAE 600.2554931640625\n",
            "loss 249.180389\n"
          ]
        },
        {
          "name": "stderr",
          "output_type": "stream",
          "text": [
            " 76%|███████▌  | 38/50 [00:08<00:02,  4.86it/s]"
          ]
        },
        {
          "name": "stdout",
          "output_type": "stream",
          "text": [
            "Epoch 37 - Train MAE 260.5439758300781 - Test MAE 615.7819213867188\n",
            "loss 299.184845\n",
            "Epoch 38 - Train MAE 259.4229431152344 - Test MAE 612.8623046875\n",
            "loss 258.625763\n"
          ]
        },
        {
          "name": "stderr",
          "output_type": "stream",
          "text": [
            " 80%|████████  | 40/50 [00:08<00:01,  5.04it/s]"
          ]
        },
        {
          "name": "stdout",
          "output_type": "stream",
          "text": [
            "Epoch 39 - Train MAE 260.07373046875 - Test MAE 599.7444458007812\n",
            "loss 274.195282\n",
            "Epoch 40 - Train MAE 259.6031494140625 - Test MAE 598.4720458984375\n",
            "loss 255.565796\n"
          ]
        },
        {
          "name": "stderr",
          "output_type": "stream",
          "text": [
            " 84%|████████▍ | 42/50 [00:08<00:01,  5.05it/s]"
          ]
        },
        {
          "name": "stdout",
          "output_type": "stream",
          "text": [
            "Epoch 41 - Train MAE 260.05712890625 - Test MAE 603.2153930664062\n",
            "loss 253.515335\n",
            "Epoch 42 - Train MAE 260.9132385253906 - Test MAE 603.621337890625\n",
            "loss 220.256149\n"
          ]
        },
        {
          "name": "stderr",
          "output_type": "stream",
          "text": [
            " 88%|████████▊ | 44/50 [00:09<00:01,  5.11it/s]"
          ]
        },
        {
          "name": "stdout",
          "output_type": "stream",
          "text": [
            "Epoch 43 - Train MAE 260.1582946777344 - Test MAE 600.2794189453125\n",
            "loss 280.718658\n",
            "Epoch 44 - Train MAE 260.3831481933594 - Test MAE 600.9945068359375\n",
            "loss 247.082260\n"
          ]
        },
        {
          "name": "stderr",
          "output_type": "stream",
          "text": [
            " 92%|█████████▏| 46/50 [00:09<00:00,  5.11it/s]"
          ]
        },
        {
          "name": "stdout",
          "output_type": "stream",
          "text": [
            "Epoch 45 - Train MAE 260.0413513183594 - Test MAE 611.8609008789062\n",
            "loss 250.707184\n",
            "Epoch 46 - Train MAE 260.6886901855469 - Test MAE 608.2493286132812\n",
            "loss 245.223709\n"
          ]
        },
        {
          "name": "stderr",
          "output_type": "stream",
          "text": [
            " 96%|█████████▌| 48/50 [00:10<00:00,  5.09it/s]"
          ]
        },
        {
          "name": "stdout",
          "output_type": "stream",
          "text": [
            "Epoch 47 - Train MAE 260.8954772949219 - Test MAE 607.1123046875\n",
            "loss 222.455109\n",
            "Epoch 48 - Train MAE 259.2425231933594 - Test MAE 598.474365234375\n",
            "loss 204.884247\n"
          ]
        },
        {
          "name": "stderr",
          "output_type": "stream",
          "text": [
            "100%|██████████| 50/50 [00:10<00:00,  4.77it/s]\n"
          ]
        },
        {
          "name": "stdout",
          "output_type": "stream",
          "text": [
            "Epoch 49 - Train MAE 260.10498046875 - Test MAE 615.0297241210938\n",
            "loss 281.955414\n"
          ]
        },
        {
          "data": {
            "image/png": "[encoded data removed]",
            "text/plain": [
              "<Figure size 2000x600 with 2 Axes>"
            ]
          },
          "metadata": {},
          "output_type": "display_data"
        }
      ],
      "source": [
        "trainset, testset = yahoo_trainset.to_numpy(), yahoo_testset.to_numpy()\n",
        "\n",
        "device = 'cuda' if torch.cuda.is_available() else 'cpu'\n",
        "batch_size = 32\n",
        "learning_rate = 0.01\n",
        "epochs = 50\n",
        "window_len = 7\n",
        "input_size = 10\n",
        "output_size = 1\n",
        "d_model = 20\n",
        "train_dataset = YahooDatasetSW_singlestep(trainset, window_len, yahoo_class_idx)\n",
        "test_dataset = YahooDatasetSW_singlestep(testset, window_len, yahoo_class_idx)\n",
        "train_dl = DataLoader(train_dataset, batch_size=batch_size, shuffle=True, drop_last=True)\n",
        "test_dl = DataLoader(test_dataset, batch_size=batch_size, shuffle=False, drop_last=True)\n",
        "model = TransformerDecoder(seq_len=window_len, num_layer=1, input_size=input_size, output_size=output_size, d_model=d_model, num_heads=1, feedforward_dim=32).to(device)\n",
        "loss_fun = nn.L1Loss()\n",
        "optimizer = optim.Adam(model.parameters(), lr=learning_rate)\n",
        "train_maes = []\n",
        "test_maes = []\n",
        "losses = []\n",
        "for e in tqdm(range(epochs)):\n",
        "    model.eval()\n",
        "    train_mae = eval_mae_decoder(model, train_dl, device)\n",
        "    test_mae = eval_mae_decoder(model, test_dl, device)\n",
        "    train_maes.append(train_mae.cpu())\n",
        "    test_maes.append(test_mae.cpu())\n",
        "    print(f\"Epoch {e} - Train MAE {train_mae} - Test MAE {test_mae}\")\n",
        "    model.train()\n",
        "    avg_loss = 0\n",
        "    count = 0\n",
        "    for i, (src, trg) in enumerate(train_dl):\n",
        "        src, trg = src.to(device), trg.to(device)\n",
        "        optimizer.zero_grad()\n",
        "        out = model(src)\n",
        "        loss = loss_fun(out, trg)\n",
        "        avg_loss += loss.cpu().detach().numpy().item()\n",
        "        if i % 50 == 0:\n",
        "            print(f'loss {loss.cpu().item():.6f}')\n",
        "        loss.backward()\n",
        "        optimizer.step()\n",
        "        count += 1\n",
        "    avg_loss /= count\n",
        "    losses.append(avg_loss)\n",
        "plot_scores(train_maes, test_maes, losses)"
      ]
    },
    {
      "cell_type": "markdown",
      "metadata": {},
      "source": [
        "## Transformer decoder v2"
      ]
    },
    {
      "cell_type": "code",
      "execution_count": null,
      "metadata": {},
      "outputs": [],
      "source": [
        "trainset, testset = yahoo_trainset.to_numpy(), yahoo_testset.to_numpy()\n",
        "\n",
        "device = 'cuda' if torch.cuda.is_available() else 'cpu'\n",
        "batch_size = 32\n",
        "learning_rate = 0.01\n",
        "epochs = 50\n",
        "window_len = 7\n",
        "input_size = 10\n",
        "output_size = 1\n",
        "train_dataset = YahooDatasetSW_singlestep(trainset, window_len, yahoo_class_idx)\n",
        "test_dataset = YahooDatasetSW_singlestep(testset, window_len, yahoo_class_idx)\n",
        "train_dl = DataLoader(train_dataset, batch_size=batch_size, shuffle=True, drop_last=True)\n",
        "test_dl = DataLoader(test_dataset, batch_size=batch_size, shuffle=False, drop_last=True)\n",
        "model = TransformerDecoder_v2(seq_len=window_len, num_layer=1, input_size=input_size, output_size=output_size, num_heads=1, feedforward_dim=32).to(device)\n",
        "loss_fun = nn.L1Loss()\n",
        "optimizer = optim.Adam(model.parameters(), lr=learning_rate)\n",
        "train_maes = []\n",
        "test_maes = []\n",
        "losses = []\n",
        "for e in tqdm(range(epochs)):\n",
        "    model.eval()\n",
        "    train_mae = eval_mae_decoder(model, train_dl, device)\n",
        "    test_mae = eval_mae_decoder(model, test_dl, device)\n",
        "    train_maes.append(train_mae.cpu())\n",
        "    test_maes.append(test_mae.cpu())\n",
        "    print(f\"Epoch {e} - Train MAE {train_mae} - Test MAE {test_mae}\")\n",
        "    model.train()\n",
        "    avg_loss = 0\n",
        "    count = 0\n",
        "    for i, (src, trg) in enumerate(train_dl):\n",
        "        src, trg = src.to(device), trg.to(device)\n",
        "        optimizer.zero_grad()\n",
        "        out = model(src)\n",
        "        loss = loss_fun(out, trg)\n",
        "        avg_loss += loss.cpu().detach().numpy().item()\n",
        "        if i % 50 == 0:\n",
        "            print(f'loss {loss.cpu().item():.6f}')\n",
        "        loss.backward()\n",
        "        optimizer.step()\n",
        "        count += 1\n",
        "    avg_loss /= count\n",
        "    losses.append(avg_loss)\n",
        "plot_scores(train_maes, test_maes, losses)"
      ]
    },
    {
      "cell_type": "code",
      "execution_count": 7,
      "metadata": {},
      "outputs": [
        {
          "data": {
            "image/png": "[encoded data removed]",
            "text/plain": [
              "<Figure size 1500x600 with 1 Axes>"
            ]
          },
          "metadata": {},
          "output_type": "display_data"
        }
      ],
      "source": [
        "with torch.no_grad():\n",
        "    index = 290\n",
        "    src = torch.from_numpy(yahoo_testset.to_numpy()[index:(index + window_len), :]).to(torch.float32).unsqueeze(0)\n",
        "    index += 1\n",
        "    trg = torch.from_numpy(yahoo_testset.to_numpy()[index:(index + window_len), yahoo_class_idx]).to(torch.float32).unsqueeze(0).unsqueeze(-1)\n",
        "    out = model(src.to(device))\n",
        "    plt.figure(figsize=(15,6))\n",
        "    # src_rec = scaler.inverse_transform(src[0, :, yahoo_class_idx])\n",
        "    # trg_rec = scaler.inverse_transform(trg[0, :, 0])\n",
        "    # out_rec = scaler.inverse_transform(out[0, :, 0])\n",
        "    src = src[0, :, yahoo_class_idx].tolist()\n",
        "    trg = trg[0, :, 0].tolist()\n",
        "    out = out[0, :, 0].tolist()\n",
        "    plt.plot(src, '-', color = 'green', label = 'Src', linewidth=2)\n",
        "    plt.plot(trg, '-', color = 'blue', label = 'Target', linewidth=2)\n",
        "    plt.plot(out, '--', color = 'red', label = 'Prediction', linewidth=2)\n",
        "    plt.show()"
      ]
    }
  ],
  "metadata": {
    "accelerator": "GPU",
    "colab": {
      "collapsed_sections": [],
      "provenance": []
    },
    "kernelspec": {
      "display_name": "Python 3.8.8 ('base')",
      "language": "python",
      "name": "python3"
    },
    "language_info": {
      "codemirror_mode": {
        "name": "ipython",
        "version": 3
      },
      "file_extension": ".py",
      "mimetype": "text/x-python",
      "name": "python",
      "nbconvert_exporter": "python",
      "pygments_lexer": "ipython3",
      "version": "3.8.8"
    },
    "orig_nbformat": 4,
    "vscode": {
      "interpreter": {
        "hash": "9ac88fb7088578c98ddf37923d050ab762e45c42e2a44ad2a5e146f45afe37fd"
      }
    }
  },
  "nbformat": 4,
  "nbformat_minor": 0
}
