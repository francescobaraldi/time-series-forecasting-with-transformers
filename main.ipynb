{
  "cells": [
    {
      "cell_type": "code",
      "execution_count": null,
      "metadata": {
        "id": "m1d36dtwULp6"
      },
      "outputs": [],
      "source": [
        "# === colab configuration ===\n",
        "# Skip this cell if running demo file locally!\n",
        "\n",
        "from google.colab import drive\n",
        "import sys\n",
        "\n",
        "# setting paths\n",
        "repository_path = '/content/time-series-forecasting-with-transformers/'\n",
        "dataset_path = repository_path + 'datasets/spx.csv'\n",
        "sys.path.insert(0, repository_path)\n",
        "\n",
        "# cloning project repository and downloading dataset\n",
        "# drive.mount('/content/drive')\n",
        "! test ! -d $repository_path && git clone https://github.com/francescobaraldi/time-series-forecasting-with-transformers\n",
        "# ! test ! -d $dataset_path && cp -R $dataset_path_drive $dataset_path\n",
        "%cd $repository_path\n",
        "\n",
        "# setting branch and pulling updates\n",
        "branch = 'main'\n",
        "! git checkout $branch\n",
        "! git pull origin $branch\n",
        "\n",
        "executing_on_colab = True"
      ]
    },
    {
      "cell_type": "code",
      "execution_count": 1,
      "metadata": {
        "id": "5e2HPlH_ULp8"
      },
      "outputs": [],
      "source": [
        "import torch\n",
        "import torch.nn as nn\n",
        "import torch.optim as optim\n",
        "from torch.utils.data import DataLoader\n",
        "import numpy as np\n",
        "import pandas as pd\n",
        "import matplotlib.pyplot as plt\n",
        "import datetime\n",
        "import matplotlib.dates as mdates\n",
        "from tqdm import tqdm\n",
        "from sklearn.preprocessing import MinMaxScaler\n",
        "\n",
        "from dataset import StockDatasetSW_multistep, StockDatasetSW_singlestep, YahooDatasetSW_singlestep\n",
        "from model import Transformer, TransformerDecoder, TransformerDecoder_v2, DotProductAttention\n",
        "from eval_plot import eval_mae, eval_mae_decoder, plot_scores\n",
        "from utils import scaler\n",
        "\n",
        "try:\n",
        "    executing_on_colab\n",
        "except NameError:\n",
        "    executing_on_colab = False"
      ]
    },
    {
      "cell_type": "markdown",
      "metadata": {},
      "source": [
        "## Load datasets"
      ]
    },
    {
      "cell_type": "code",
      "execution_count": 2,
      "metadata": {
        "colab": {
          "base_uri": "https://localhost:8080/",
          "height": 269
        },
        "id": "emmorBdRULp-",
        "outputId": "a734d8aa-d3ae-4522-b997-340abe858972"
      },
      "outputs": [],
      "source": [
        "if not executing_on_colab:\n",
        "    sp500_dataset_path = \"datasets/spx.csv\"\n",
        "    yahoo_dataset_path = \"datasets/yahoo_stock.csv\"\n",
        "sp500 = pd.read_csv(sp500_dataset_path)\n",
        "yahoo = pd.read_csv(yahoo_dataset_path)"
      ]
    },
    {
      "cell_type": "markdown",
      "metadata": {},
      "source": [
        "## Prepare sp500 dataset"
      ]
    },
    {
      "cell_type": "code",
      "execution_count": 3,
      "metadata": {},
      "outputs": [],
      "source": [
        "sp500_data = sp500['close'].to_numpy()\n",
        "sp500_data = torch.from_numpy(sp500_data).to(torch.float32)\n",
        "\n",
        "sp500_trainset = sp500_data[0:int(len(sp500_data) * 0.7)]\n",
        "sp500_testset = sp500_data[int(len(sp500_data) * 0.7):]\n",
        "\n",
        "sp500_trainset_scaled, sp500_testset_scaled = scaler(sp500_trainset, sp500_testset)"
      ]
    },
    {
      "cell_type": "markdown",
      "metadata": {},
      "source": [
        "## Prepare yahoo dataset"
      ]
    },
    {
      "cell_type": "code",
      "execution_count": 4,
      "metadata": {
        "id": "CLvXi2CIULp_"
      },
      "outputs": [],
      "source": [
        "yahoo_data = yahoo[['High', 'Low', 'Open', 'Close', 'Volume', 'Adj Close']]\n",
        "yahoo_class_idx = 3\n",
        "yahoo_trainset = yahoo_data.iloc[:int(len(yahoo_data) * 0.7)]\n",
        "yahoo_testset = yahoo_data.iloc[int(len(yahoo_data) * 0.7):]\n",
        "scaler = MinMaxScaler()\n",
        "scaler.fit(yahoo_trainset)\n",
        "yahoo_trainset_scaled = scaler.transform(yahoo_trainset)\n",
        "yahoo_testset_scaled = scaler.transform(yahoo_testset)"
      ]
    },
    {
      "cell_type": "markdown",
      "metadata": {},
      "source": [
        "## Transformer std."
      ]
    },
    {
      "cell_type": "code",
      "execution_count": null,
      "metadata": {
        "colab": {
          "base_uri": "https://localhost:8080/",
          "height": 1000
        },
        "id": "uVjAhyuTULp_",
        "outputId": "92affde7-8da9-4955-ea12-4cf736fc24d4"
      },
      "outputs": [],
      "source": [
        "trainset, testset = yahoo_trainset_scaled, yahoo_testset_scaled\n",
        "\n",
        "device = 'cuda' if torch.cuda.is_available() else 'cpu'\n",
        "batch_size = 32\n",
        "learning_rate = 0.01\n",
        "epochs = 10\n",
        "window_len = 7\n",
        "output_len = 3\n",
        "train_dataset = StockDatasetSW_multistep(trainset, window_len, output_len)\n",
        "test_dataset = StockDatasetSW_multistep(testset, window_len, output_len)\n",
        "train_dl = DataLoader(train_dataset, batch_size=batch_size, shuffle=True, drop_last=True)\n",
        "test_dl = DataLoader(test_dataset, batch_size=batch_size, shuffle=False, drop_last=True)\n",
        "model = Transformer(seq_len=window_len, num_encoder=6, num_decoder=6, input_size=1, output_size=output_len, d_model=512, num_heads=8, feedforward_dim=1024).to(device)\n",
        "loss_fun = nn.L1Loss()\n",
        "optimizer = optim.Adam(model.parameters(), lr=learning_rate)\n",
        "train_maes = []\n",
        "test_maes = []\n",
        "for e in tqdm(range(epochs)):\n",
        "    model.eval()\n",
        "    train_mae = eval_mae(model, train_dl, device)\n",
        "    test_mae = eval_mae(model, test_dl, device)\n",
        "    train_maes.append(train_mae.cpu())\n",
        "    test_maes.append(test_mae.cpu())\n",
        "    print(f\"Epoch {e} - Train MAE {train_mae} - Test MAE {test_mae}\")\n",
        "    model.train()\n",
        "    for i, (src, trg, trg_y) in enumerate(train_dl):\n",
        "        src, trg, trg_y = src.to(device), trg.to(device), trg_y.to(device)\n",
        "        optimizer.zero_grad()\n",
        "        out = model(src, trg)\n",
        "        loss = loss_fun(out, trg_y)\n",
        "        if i % 50 == 0:\n",
        "            print(f'loss {loss.cpu().item():.3f}')\n",
        "        loss.backward()\n",
        "        optimizer.step()\n",
        "plot_scores(train_maes, test_maes)"
      ]
    },
    {
      "cell_type": "markdown",
      "metadata": {},
      "source": [
        "## Transformer decoder"
      ]
    },
    {
      "cell_type": "code",
      "execution_count": 7,
      "metadata": {},
      "outputs": [
        {
          "name": "stderr",
          "output_type": "stream",
          "text": [
            "  2%|▏         | 1/50 [00:00<00:13,  3.71it/s]"
          ]
        },
        {
          "name": "stdout",
          "output_type": "stream",
          "text": [
            "Epoch 0 - Train MAE 0.3211805522441864 - Test MAE 0.8196114897727966\n",
            "loss 0.361\n"
          ]
        },
        {
          "name": "stderr",
          "output_type": "stream",
          "text": [
            "  4%|▍         | 2/50 [00:00<00:12,  3.81it/s]"
          ]
        },
        {
          "name": "stdout",
          "output_type": "stream",
          "text": [
            "Epoch 1 - Train MAE 0.20823775231838226 - Test MAE 0.4992687404155731\n",
            "loss 0.218\n",
            "Epoch 2 - Train MAE 0.13127948343753815 - Test MAE 0.305266410112381\n",
            "loss 0.156\n"
          ]
        },
        {
          "name": "stderr",
          "output_type": "stream",
          "text": [
            "  8%|▊         | 4/50 [00:00<00:10,  4.53it/s]"
          ]
        },
        {
          "name": "stdout",
          "output_type": "stream",
          "text": [
            "Epoch 3 - Train MAE 0.03353278338909149 - Test MAE 0.14111270010471344\n",
            "loss 0.063\n",
            "Epoch 4 - Train MAE 0.02656942792236805 - Test MAE 0.1357077807188034\n",
            "loss 0.043\n"
          ]
        },
        {
          "name": "stderr",
          "output_type": "stream",
          "text": [
            " 12%|█▏        | 6/50 [00:01<00:09,  4.85it/s]"
          ]
        },
        {
          "name": "stdout",
          "output_type": "stream",
          "text": [
            "Epoch 5 - Train MAE 0.02377808466553688 - Test MAE 0.13736814260482788\n",
            "loss 0.039\n",
            "Epoch 6 - Train MAE 0.019799843430519104 - Test MAE 0.12524235248565674\n",
            "loss 0.032\n"
          ]
        },
        {
          "name": "stderr",
          "output_type": "stream",
          "text": [
            " 16%|█▌        | 8/50 [00:01<00:08,  4.95it/s]"
          ]
        },
        {
          "name": "stdout",
          "output_type": "stream",
          "text": [
            "Epoch 7 - Train MAE 0.017055898904800415 - Test MAE 0.11580520123243332\n",
            "loss 0.032\n",
            "Epoch 8 - Train MAE 0.015070218592882156 - Test MAE 0.11145365238189697\n",
            "loss 0.026\n"
          ]
        },
        {
          "name": "stderr",
          "output_type": "stream",
          "text": [
            " 20%|██        | 10/50 [00:02<00:07,  5.07it/s]"
          ]
        },
        {
          "name": "stdout",
          "output_type": "stream",
          "text": [
            "Epoch 9 - Train MAE 0.016861343756318092 - Test MAE 0.1183433085680008\n",
            "loss 0.021\n",
            "Epoch 10 - Train MAE 0.013510477729141712 - Test MAE 0.1019468680024147\n",
            "loss 0.019\n"
          ]
        },
        {
          "name": "stderr",
          "output_type": "stream",
          "text": [
            " 24%|██▍       | 12/50 [00:02<00:07,  5.04it/s]"
          ]
        },
        {
          "name": "stdout",
          "output_type": "stream",
          "text": [
            "Epoch 11 - Train MAE 0.013109738938510418 - Test MAE 0.10019329190254211\n",
            "loss 0.021\n",
            "Epoch 12 - Train MAE 0.013011264614760876 - Test MAE 0.10055804997682571\n",
            "loss 0.018\n"
          ]
        },
        {
          "name": "stderr",
          "output_type": "stream",
          "text": [
            " 28%|██▊       | 14/50 [00:02<00:07,  5.09it/s]"
          ]
        },
        {
          "name": "stdout",
          "output_type": "stream",
          "text": [
            "Epoch 13 - Train MAE 0.012761253863573074 - Test MAE 0.09628839045763016\n",
            "loss 0.014\n",
            "Epoch 14 - Train MAE 0.012807068414986134 - Test MAE 0.09224928170442581\n",
            "loss 0.018\n"
          ]
        },
        {
          "name": "stderr",
          "output_type": "stream",
          "text": [
            " 32%|███▏      | 16/50 [00:03<00:06,  5.08it/s]"
          ]
        },
        {
          "name": "stdout",
          "output_type": "stream",
          "text": [
            "Epoch 15 - Train MAE 0.011971822008490562 - Test MAE 0.09640778601169586\n",
            "loss 0.015\n",
            "Epoch 16 - Train MAE 0.015196053311228752 - Test MAE 0.10011860728263855\n",
            "loss 0.016\n"
          ]
        },
        {
          "name": "stderr",
          "output_type": "stream",
          "text": [
            " 36%|███▌      | 18/50 [00:03<00:06,  5.15it/s]"
          ]
        },
        {
          "name": "stdout",
          "output_type": "stream",
          "text": [
            "Epoch 17 - Train MAE 0.012149276211857796 - Test MAE 0.08367755264043808\n",
            "loss 0.015\n",
            "Epoch 18 - Train MAE 0.011249731294810772 - Test MAE 0.08403107523918152\n",
            "loss 0.015\n"
          ]
        },
        {
          "name": "stderr",
          "output_type": "stream",
          "text": [
            " 40%|████      | 20/50 [00:04<00:06,  4.89it/s]"
          ]
        },
        {
          "name": "stdout",
          "output_type": "stream",
          "text": [
            "Epoch 19 - Train MAE 0.011535733006894588 - Test MAE 0.07728248834609985\n",
            "loss 0.012\n"
          ]
        },
        {
          "name": "stderr",
          "output_type": "stream",
          "text": [
            " 42%|████▏     | 21/50 [00:04<00:05,  4.89it/s]"
          ]
        },
        {
          "name": "stdout",
          "output_type": "stream",
          "text": [
            "Epoch 20 - Train MAE 0.011411522515118122 - Test MAE 0.08156827837228775\n",
            "loss 0.013\n",
            "Epoch 21 - Train MAE 0.01117122545838356 - Test MAE 0.07507507503032684\n",
            "loss 0.014\n"
          ]
        },
        {
          "name": "stderr",
          "output_type": "stream",
          "text": [
            " 46%|████▌     | 23/50 [00:04<00:05,  5.01it/s]"
          ]
        },
        {
          "name": "stdout",
          "output_type": "stream",
          "text": [
            "Epoch 22 - Train MAE 0.010797030292451382 - Test MAE 0.07413823157548904\n",
            "loss 0.013\n",
            "Epoch 23 - Train MAE 0.010841580107808113 - Test MAE 0.07147561013698578\n",
            "loss 0.018\n"
          ]
        },
        {
          "name": "stderr",
          "output_type": "stream",
          "text": [
            " 50%|█████     | 25/50 [00:05<00:04,  5.09it/s]"
          ]
        },
        {
          "name": "stdout",
          "output_type": "stream",
          "text": [
            "Epoch 24 - Train MAE 0.01105409488081932 - Test MAE 0.06893062591552734\n",
            "loss 0.011\n",
            "Epoch 25 - Train MAE 0.010632922872900963 - Test MAE 0.06806054711341858\n",
            "loss 0.013\n"
          ]
        },
        {
          "name": "stderr",
          "output_type": "stream",
          "text": [
            " 54%|█████▍    | 27/50 [00:05<00:04,  5.07it/s]"
          ]
        },
        {
          "name": "stdout",
          "output_type": "stream",
          "text": [
            "Epoch 26 - Train MAE 0.010801795870065689 - Test MAE 0.0658116340637207\n",
            "loss 0.010\n",
            "Epoch 27 - Train MAE 0.011406212113797665 - Test MAE 0.06660325825214386\n",
            "loss 0.012\n"
          ]
        },
        {
          "name": "stderr",
          "output_type": "stream",
          "text": [
            " 58%|█████▊    | 29/50 [00:05<00:04,  5.14it/s]"
          ]
        },
        {
          "name": "stdout",
          "output_type": "stream",
          "text": [
            "Epoch 28 - Train MAE 0.010701333172619343 - Test MAE 0.06787218898534775\n",
            "loss 0.011\n",
            "Epoch 29 - Train MAE 0.01078437827527523 - Test MAE 0.06781607866287231\n",
            "loss 0.012\n"
          ]
        },
        {
          "name": "stderr",
          "output_type": "stream",
          "text": [
            " 62%|██████▏   | 31/50 [00:06<00:03,  5.13it/s]"
          ]
        },
        {
          "name": "stdout",
          "output_type": "stream",
          "text": [
            "Epoch 30 - Train MAE 0.01063413918018341 - Test MAE 0.06745745986700058\n",
            "loss 0.012\n",
            "Epoch 31 - Train MAE 0.010423789732158184 - Test MAE 0.06588451564311981\n",
            "loss 0.010\n"
          ]
        },
        {
          "name": "stderr",
          "output_type": "stream",
          "text": [
            " 66%|██████▌   | 33/50 [00:06<00:03,  5.11it/s]"
          ]
        },
        {
          "name": "stdout",
          "output_type": "stream",
          "text": [
            "Epoch 32 - Train MAE 0.010464748367667198 - Test MAE 0.06237959861755371\n",
            "loss 0.010\n",
            "Epoch 33 - Train MAE 0.01112351380288601 - Test MAE 0.06626881659030914\n",
            "loss 0.014\n"
          ]
        },
        {
          "name": "stderr",
          "output_type": "stream",
          "text": [
            " 70%|███████   | 35/50 [00:07<00:02,  5.13it/s]"
          ]
        },
        {
          "name": "stdout",
          "output_type": "stream",
          "text": [
            "Epoch 34 - Train MAE 0.010499435476958752 - Test MAE 0.06323520839214325\n",
            "loss 0.011\n",
            "Epoch 35 - Train MAE 0.012008060701191425 - Test MAE 0.059632521122694016\n",
            "loss 0.016\n"
          ]
        },
        {
          "name": "stderr",
          "output_type": "stream",
          "text": [
            " 74%|███████▍  | 37/50 [00:07<00:02,  5.16it/s]"
          ]
        },
        {
          "name": "stdout",
          "output_type": "stream",
          "text": [
            "Epoch 36 - Train MAE 0.010339245200157166 - Test MAE 0.06600625813007355\n",
            "loss 0.012\n",
            "Epoch 37 - Train MAE 0.010530611500144005 - Test MAE 0.06130020320415497\n",
            "loss 0.012\n"
          ]
        },
        {
          "name": "stderr",
          "output_type": "stream",
          "text": [
            " 78%|███████▊  | 39/50 [00:07<00:02,  5.21it/s]"
          ]
        },
        {
          "name": "stdout",
          "output_type": "stream",
          "text": [
            "Epoch 38 - Train MAE 0.011117498390376568 - Test MAE 0.05915214866399765\n",
            "loss 0.011\n",
            "Epoch 39 - Train MAE 0.010343198664486408 - Test MAE 0.06351971626281738\n",
            "loss 0.011\n"
          ]
        },
        {
          "name": "stderr",
          "output_type": "stream",
          "text": [
            " 82%|████████▏ | 41/50 [00:08<00:01,  5.20it/s]"
          ]
        },
        {
          "name": "stdout",
          "output_type": "stream",
          "text": [
            "Epoch 40 - Train MAE 0.010748937726020813 - Test MAE 0.058918729424476624\n",
            "loss 0.012\n",
            "Epoch 41 - Train MAE 0.010177738033235073 - Test MAE 0.05862040817737579\n",
            "loss 0.010\n"
          ]
        },
        {
          "name": "stderr",
          "output_type": "stream",
          "text": [
            " 86%|████████▌ | 43/50 [00:08<00:01,  5.24it/s]"
          ]
        },
        {
          "name": "stdout",
          "output_type": "stream",
          "text": [
            "Epoch 42 - Train MAE 0.010963565669953823 - Test MAE 0.06295803189277649\n",
            "loss 0.012\n",
            "Epoch 43 - Train MAE 0.010140924714505672 - Test MAE 0.05933985114097595\n",
            "loss 0.010\n"
          ]
        },
        {
          "name": "stderr",
          "output_type": "stream",
          "text": [
            " 90%|█████████ | 45/50 [00:08<00:00,  5.27it/s]"
          ]
        },
        {
          "name": "stdout",
          "output_type": "stream",
          "text": [
            "Epoch 44 - Train MAE 0.01015580352395773 - Test MAE 0.05951773747801781\n",
            "loss 0.010\n",
            "Epoch 45 - Train MAE 0.010506333783268929 - Test MAE 0.06204982101917267\n",
            "loss 0.010\n"
          ]
        },
        {
          "name": "stderr",
          "output_type": "stream",
          "text": [
            " 94%|█████████▍| 47/50 [00:09<00:00,  5.24it/s]"
          ]
        },
        {
          "name": "stdout",
          "output_type": "stream",
          "text": [
            "Epoch 46 - Train MAE 0.010676814243197441 - Test MAE 0.0584140345454216\n",
            "loss 0.011\n",
            "Epoch 47 - Train MAE 0.010101152583956718 - Test MAE 0.05976536124944687\n",
            "loss 0.011\n"
          ]
        },
        {
          "name": "stderr",
          "output_type": "stream",
          "text": [
            " 98%|█████████▊| 49/50 [00:09<00:00,  5.24it/s]"
          ]
        },
        {
          "name": "stdout",
          "output_type": "stream",
          "text": [
            "Epoch 48 - Train MAE 0.010410896502435207 - Test MAE 0.05965946987271309\n",
            "loss 0.010\n",
            "Epoch 49 - Train MAE 0.010085069574415684 - Test MAE 0.058152444660663605\n",
            "loss 0.011\n"
          ]
        },
        {
          "name": "stderr",
          "output_type": "stream",
          "text": [
            "100%|██████████| 50/50 [00:09<00:00,  5.05it/s]\n"
          ]
        },
        {
          "data": {
            "image/png": "[encoded data removed]",
            "text/plain": [
              "<Figure size 2000x600 with 2 Axes>"
            ]
          },
          "metadata": {},
          "output_type": "display_data"
        }
      ],
      "source": [
        "trainset, testset = yahoo_trainset_scaled, yahoo_testset_scaled\n",
        "\n",
        "device = 'cuda' if torch.cuda.is_available() else 'cpu'\n",
        "batch_size = 32\n",
        "learning_rate = 0.001\n",
        "epochs = 50\n",
        "window_len = 7\n",
        "input_size = 6\n",
        "output_size = 1\n",
        "train_dataset = YahooDatasetSW_singlestep(trainset, window_len, yahoo_class_idx)\n",
        "test_dataset = YahooDatasetSW_singlestep(testset, window_len, yahoo_class_idx)\n",
        "train_dl = DataLoader(train_dataset, batch_size=batch_size, shuffle=True, drop_last=True)\n",
        "test_dl = DataLoader(test_dataset, batch_size=batch_size, shuffle=False, drop_last=True)\n",
        "model = TransformerDecoder(seq_len=window_len, num_layer=1, input_size=input_size, output_size=output_size, d_model=6, num_heads=1, feedforward_dim=32).to(device)\n",
        "loss_fun = nn.L1Loss()\n",
        "optimizer = optim.Adam(model.parameters(), lr=learning_rate)\n",
        "train_maes = []\n",
        "test_maes = []\n",
        "losses = []\n",
        "for e in tqdm(range(epochs)):\n",
        "    model.eval()\n",
        "    train_mae = eval_mae_decoder(model, train_dl, device)\n",
        "    test_mae = eval_mae_decoder(model, test_dl, device)\n",
        "    train_maes.append(train_mae.cpu())\n",
        "    test_maes.append(test_mae.cpu())\n",
        "    print(f\"Epoch {e} - Train MAE {train_mae} - Test MAE {test_mae}\")\n",
        "    model.train()\n",
        "    avg_loss = 0\n",
        "    count = 0\n",
        "    for i, (src, trg) in enumerate(train_dl):\n",
        "        src, trg = src.to(device), trg.to(device)\n",
        "        optimizer.zero_grad()\n",
        "        out = model(src)\n",
        "        loss = loss_fun(out, trg)\n",
        "        avg_loss += loss.cpu().detach().numpy().item()\n",
        "        if i % 50 == 0:\n",
        "            print(f'loss {loss.cpu().item():.3f}')\n",
        "        loss.backward()\n",
        "        optimizer.step()\n",
        "        count += 1\n",
        "    avg_loss /= count\n",
        "    losses.append(avg_loss)\n",
        "plot_scores(train_maes, test_maes, losses)"
      ]
    }
  ],
  "metadata": {
    "accelerator": "GPU",
    "colab": {
      "collapsed_sections": [],
      "provenance": []
    },
    "kernelspec": {
      "display_name": "Python 3.8.8 ('base')",
      "language": "python",
      "name": "python3"
    },
    "language_info": {
      "codemirror_mode": {
        "name": "ipython",
        "version": 3
      },
      "file_extension": ".py",
      "mimetype": "text/x-python",
      "name": "python",
      "nbconvert_exporter": "python",
      "pygments_lexer": "ipython3",
      "version": "3.8.8"
    },
    "orig_nbformat": 4,
    "vscode": {
      "interpreter": {
        "hash": "9ac88fb7088578c98ddf37923d050ab762e45c42e2a44ad2a5e146f45afe37fd"
      }
    }
  },
  "nbformat": 4,
  "nbformat_minor": 0
}
