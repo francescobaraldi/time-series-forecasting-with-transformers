{
  "cells": [
    {
      "cell_type": "code",
      "execution_count": null,
      "metadata": {
        "id": "m1d36dtwULp6"
      },
      "outputs": [],
      "source": [
        "# === colab configuration ===\n",
        "# Skip this cell if running demo file locally!\n",
        "\n",
        "from google.colab import drive\n",
        "import sys\n",
        "\n",
        "# setting paths\n",
        "repository_path = '/content/time-series-forecasting-with-transformers/'\n",
        "datasets_path = repository_path + 'datasets/'\n",
        "sys.path.insert(0, repository_path)\n",
        "\n",
        "# cloning project repository and downloading dataset\n",
        "# drive.mount('/content/drive')\n",
        "! test ! -d $repository_path && git clone https://github.com/francescobaraldi/time-series-forecasting-with-transformers\n",
        "# ! test ! -d $dataset_path && cp -R $dataset_path_drive $dataset_path\n",
        "%cd $repository_path\n",
        "\n",
        "# setting branch and pulling updates\n",
        "branch = 'main'\n",
        "! git checkout $branch\n",
        "! git pull origin $branch\n",
        "\n",
        "executing_on_colab = True"
      ]
    },
    {
      "cell_type": "code",
      "execution_count": null,
      "metadata": {
        "id": "5e2HPlH_ULp8"
      },
      "outputs": [],
      "source": [
        "import torch\n",
        "import torch.nn as nn\n",
        "import torch.optim as optim\n",
        "from torch.utils.data import DataLoader\n",
        "import numpy as np\n",
        "import pandas as pd\n",
        "import matplotlib.pyplot as plt\n",
        "import datetime\n",
        "import matplotlib.dates as mdates\n",
        "from tqdm import tqdm\n",
        "from sklearn.preprocessing import MinMaxScaler\n",
        "\n",
        "from dataset import StockDatasetSW_multistep, StockDatasetSW_singlestep, YahooDatasetSW_singlestep\n",
        "from model import Transformer, TransformerDecoder, TransformerDecoder_v2, WeatherLSTM\n",
        "from eval_plot import eval_mae, eval_mae_decoder, plot_scores\n",
        "from utils import scaler, MyMinMaxScaler\n",
        "\n",
        "try:\n",
        "    executing_on_colab\n",
        "except NameError:\n",
        "    executing_on_colab = False"
      ]
    },
    {
      "cell_type": "markdown",
      "metadata": {},
      "source": [
        "## Load datasets"
      ]
    },
    {
      "cell_type": "code",
      "execution_count": null,
      "metadata": {
        "colab": {
          "base_uri": "https://localhost:8080/",
          "height": 269
        },
        "id": "emmorBdRULp-",
        "outputId": "a734d8aa-d3ae-4522-b997-340abe858972"
      },
      "outputs": [],
      "source": [
        "if not executing_on_colab:\n",
        "    sp500_dataset_path = \"datasets/spx.csv\"\n",
        "    yahoo_dataset_path = \"datasets/yahoo_stock.csv\"\n",
        "else:\n",
        "    sp500_dataset_path = datasets_path + \"spx.csv\"\n",
        "    yahoo_dataset_path = datasets_path + \"yahoo_stock.csv\"\n",
        "sp500 = pd.read_csv(sp500_dataset_path)\n",
        "yahoo = pd.read_csv(yahoo_dataset_path)"
      ]
    },
    {
      "cell_type": "markdown",
      "metadata": {},
      "source": [
        "## Prepare sp500 dataset"
      ]
    },
    {
      "cell_type": "code",
      "execution_count": null,
      "metadata": {},
      "outputs": [],
      "source": [
        "sp500_data = sp500['close'].to_numpy()\n",
        "sp500_data = torch.from_numpy(sp500_data).to(torch.float32)\n",
        "\n",
        "sp500_trainset = sp500_data[0:int(len(sp500_data) * 0.7)]\n",
        "sp500_testset = sp500_data[int(len(sp500_data) * 0.7):]\n",
        "\n",
        "sp500_trainset_scaled, sp500_testset_scaled = scaler(sp500_trainset, sp500_testset)"
      ]
    },
    {
      "cell_type": "markdown",
      "metadata": {},
      "source": [
        "## Prepare yahoo dataset"
      ]
    },
    {
      "cell_type": "code",
      "execution_count": null,
      "metadata": {
        "id": "CLvXi2CIULp_"
      },
      "outputs": [],
      "source": [
        "date_time = pd.to_datetime(yahoo['Date'], format='%Y.%m.%d')\n",
        "day = 24*60*60\n",
        "year = (365.2425)*day\n",
        "timestamp_s = date_time.map(pd.Timestamp.timestamp)\n",
        "yahoo['Day sin'] = np.sin(timestamp_s * (2 * np.pi / day))\n",
        "yahoo['Day cos'] = np.cos(timestamp_s * (2 * np.pi / day))\n",
        "yahoo['Year sin'] = np.sin(timestamp_s * (2 * np.pi / year))\n",
        "yahoo['Year cos'] = np.cos(timestamp_s * (2 * np.pi / year))\n",
        "\n",
        "yahoo_data = yahoo[['High', 'Low', 'Open', 'Close', 'Volume', 'Adj Close', 'Day sin', 'Day cos', 'Year sin', 'Year cos']]\n",
        "yahoo_class_idx = 3\n",
        "yahoo_trainset = yahoo_data.iloc[:int(len(yahoo_data) * 0.7)]\n",
        "yahoo_testset = yahoo_data.iloc[int(len(yahoo_data) * 0.7):]\n",
        "scaler = MinMaxScaler()\n",
        "scaler.fit(yahoo_trainset)\n",
        "yahoo_trainset_scaled = scaler.transform(yahoo_trainset)\n",
        "yahoo_testset_scaled = scaler.transform(yahoo_testset)"
      ]
    },
    {
      "cell_type": "markdown",
      "metadata": {},
      "source": [
        "## Transformer std."
      ]
    },
    {
      "cell_type": "code",
      "execution_count": null,
      "metadata": {
        "colab": {
          "base_uri": "https://localhost:8080/",
          "height": 1000
        },
        "id": "uVjAhyuTULp_",
        "outputId": "92affde7-8da9-4955-ea12-4cf736fc24d4"
      },
      "outputs": [],
      "source": [
        "trainset, testset = yahoo_trainset_scaled, yahoo_testset_scaled\n",
        "\n",
        "device = 'cuda' if torch.cuda.is_available() else 'cpu'\n",
        "batch_size = 32\n",
        "learning_rate = 0.01\n",
        "epochs = 10\n",
        "window_len = 7\n",
        "output_len = 3\n",
        "train_dataset = StockDatasetSW_multistep(trainset, window_len, output_len)\n",
        "test_dataset = StockDatasetSW_multistep(testset, window_len, output_len)\n",
        "train_dl = DataLoader(train_dataset, batch_size=batch_size, shuffle=True, drop_last=True)\n",
        "test_dl = DataLoader(test_dataset, batch_size=batch_size, shuffle=False, drop_last=True)\n",
        "model = Transformer(seq_len=window_len, num_encoder=6, num_decoder=6, input_size=1, output_size=output_len, d_model=512, num_heads=8, feedforward_dim=1024).to(device)\n",
        "loss_fun = nn.L1Loss()\n",
        "optimizer = optim.Adam(model.parameters(), lr=learning_rate)\n",
        "train_maes = []\n",
        "test_maes = []\n",
        "for e in tqdm(range(epochs)):\n",
        "    model.eval()\n",
        "    train_mae = eval_mae(model, train_dl, device)\n",
        "    test_mae = eval_mae(model, test_dl, device)\n",
        "    train_maes.append(train_mae.cpu())\n",
        "    test_maes.append(test_mae.cpu())\n",
        "    print(f\"Epoch {e} - Train MAE {train_mae} - Test MAE {test_mae}\")\n",
        "    model.train()\n",
        "    for i, (src, trg, trg_y) in enumerate(train_dl):\n",
        "        src, trg, trg_y = src.to(device), trg.to(device), trg_y.to(device)\n",
        "        optimizer.zero_grad()\n",
        "        out = model(src, trg)\n",
        "        loss = loss_fun(out, trg_y)\n",
        "        if i % 50 == 0:\n",
        "            print(f'loss {loss.cpu().item():.3f}')\n",
        "        loss.backward()\n",
        "        optimizer.step()\n",
        "plot_scores(train_maes, test_maes)"
      ]
    },
    {
      "cell_type": "markdown",
      "metadata": {},
      "source": [
        "## Transformer decoder"
      ]
    },
    {
      "cell_type": "code",
      "execution_count": null,
      "metadata": {},
      "outputs": [],
      "source": [
        "trainset, testset = yahoo_trainset.to_numpy(), yahoo_testset.to_numpy()\n",
        "\n",
        "device = 'cuda' if torch.cuda.is_available() else 'cpu'\n",
        "batch_size = 32\n",
        "learning_rate = 0.01\n",
        "epochs = 50\n",
        "window_len = 7\n",
        "input_size = 10\n",
        "output_size = 1\n",
        "d_model = 20\n",
        "train_dataset = YahooDatasetSW_singlestep(trainset, window_len, yahoo_class_idx)\n",
        "test_dataset = YahooDatasetSW_singlestep(testset, window_len, yahoo_class_idx)\n",
        "train_dl = DataLoader(train_dataset, batch_size=batch_size, shuffle=True, drop_last=True)\n",
        "test_dl = DataLoader(test_dataset, batch_size=batch_size, shuffle=False, drop_last=True)\n",
        "model = TransformerDecoder(seq_len=window_len, num_layer=1, input_size=input_size, output_size=output_size, d_model=d_model, num_heads=1, feedforward_dim=32).to(device)\n",
        "loss_fun = nn.L1Loss()\n",
        "optimizer = optim.Adam(model.parameters(), lr=learning_rate)\n",
        "train_maes = []\n",
        "test_maes = []\n",
        "losses = []\n",
        "for e in tqdm(range(epochs)):\n",
        "    model.eval()\n",
        "    train_mae = eval_mae_decoder(model, train_dl, device)\n",
        "    test_mae = eval_mae_decoder(model, test_dl, device)\n",
        "    train_maes.append(train_mae.cpu())\n",
        "    test_maes.append(test_mae.cpu())\n",
        "    print(f\"Epoch {e} - Train MAE {train_mae} - Test MAE {test_mae}\")\n",
        "    model.train()\n",
        "    avg_loss = 0\n",
        "    count = 0\n",
        "    for i, (src, trg) in enumerate(train_dl):\n",
        "        src, trg = src.to(device), trg.to(device)\n",
        "        optimizer.zero_grad()\n",
        "        out = model(src)\n",
        "        loss = loss_fun(out, trg)\n",
        "        avg_loss += loss.cpu().detach().numpy().item()\n",
        "        if i % 50 == 0:\n",
        "            print(f'loss {loss.cpu().item():.6f}')\n",
        "        loss.backward()\n",
        "        optimizer.step()\n",
        "        count += 1\n",
        "    avg_loss /= count\n",
        "    losses.append(avg_loss)\n",
        "plot_scores(train_maes, test_maes, losses)"
      ]
    },
    {
      "cell_type": "markdown",
      "metadata": {},
      "source": [
        "## Transformer decoder v2"
      ]
    },
    {
      "cell_type": "code",
      "execution_count": null,
      "metadata": {},
      "outputs": [],
      "source": [
        "trainset, testset = yahoo_trainset.to_numpy(), yahoo_testset.to_numpy()\n",
        "\n",
        "device = 'cuda' if torch.cuda.is_available() else 'cpu'\n",
        "batch_size = 32\n",
        "learning_rate = 0.01\n",
        "epochs = 50\n",
        "window_len = 7\n",
        "input_size = 10\n",
        "output_size = 1\n",
        "train_dataset = YahooDatasetSW_singlestep(trainset, window_len, yahoo_class_idx)\n",
        "test_dataset = YahooDatasetSW_singlestep(testset, window_len, yahoo_class_idx)\n",
        "train_dl = DataLoader(train_dataset, batch_size=batch_size, shuffle=True, drop_last=True)\n",
        "test_dl = DataLoader(test_dataset, batch_size=batch_size, shuffle=False, drop_last=True)\n",
        "model = TransformerDecoder_v2(seq_len=window_len, num_layer=1, input_size=input_size, output_size=output_size, num_heads=1, feedforward_dim=32).to(device)\n",
        "loss_fun = nn.L1Loss()\n",
        "optimizer = optim.SGD(model.parameters(), lr=learning_rate)\n",
        "train_maes = []\n",
        "test_maes = []\n",
        "losses = []\n",
        "for e in tqdm(range(epochs)):\n",
        "    model.eval()\n",
        "    train_mae = eval_mae_decoder(model, train_dl, device)\n",
        "    test_mae = eval_mae_decoder(model, test_dl, device)\n",
        "    train_maes.append(train_mae.cpu())\n",
        "    test_maes.append(test_mae.cpu())\n",
        "    print(f\"Epoch {e} - Train MAE {train_mae} - Test MAE {test_mae}\")\n",
        "    model.train()\n",
        "    avg_loss = 0\n",
        "    count = 0\n",
        "    for i, (src, trg) in enumerate(train_dl):\n",
        "        src, trg = src.to(device), trg.to(device)\n",
        "        optimizer.zero_grad()\n",
        "        out = model(src)\n",
        "        loss = loss_fun(out, trg)\n",
        "        avg_loss += loss.cpu().detach().numpy().item()\n",
        "        if i % 50 == 0:\n",
        "            print(f'loss {loss.cpu().item():.6f}')\n",
        "        loss.backward()\n",
        "        optimizer.step()\n",
        "        count += 1\n",
        "    avg_loss /= count\n",
        "    losses.append(avg_loss)\n",
        "plot_scores(train_maes, test_maes, losses)"
      ]
    },
    {
      "cell_type": "code",
      "execution_count": null,
      "metadata": {},
      "outputs": [],
      "source": [
        "trainset, testset = yahoo_trainset.to_numpy(), yahoo_testset.to_numpy()\n",
        "\n",
        "device = 'cuda' if torch.cuda.is_available() else 'cpu'\n",
        "batch_size = 32\n",
        "learning_rate = 0.01\n",
        "epochs = 50\n",
        "window_len = 7\n",
        "input_size = 10\n",
        "output_size = 1\n",
        "d_model = 20\n",
        "train_dataset = YahooDatasetSW_singlestep(trainset, window_len, yahoo_class_idx)\n",
        "test_dataset = YahooDatasetSW_singlestep(testset, window_len, yahoo_class_idx)\n",
        "train_dl = DataLoader(train_dataset, batch_size=batch_size, shuffle=True, drop_last=True)\n",
        "test_dl = DataLoader(test_dataset, batch_size=batch_size, shuffle=False, drop_last=True)\n",
        "model = WeatherLSTM(input_size, d_model, output_size).to(device)\n",
        "\n",
        "loss_fun = nn.L1Loss()\n",
        "opt = optim.Adam(model.parameters(), lr=learning_rate)\n",
        "\n",
        "train_maes = []\n",
        "test_maes = []\n",
        "losses = []\n",
        "for e in tqdm(range(epochs)):\n",
        "\n",
        "    model.eval()\n",
        "    \n",
        "    train_mae = eval_mae_decoder(model, train_dl, device)\n",
        "    test_mae = eval_mae_decoder(model, test_dl, device)\n",
        "    train_maes.append(train_mae.cpu())\n",
        "    test_maes.append(test_mae.cpu())\n",
        "\n",
        "    print(f'Epoch {e:03d} - Train MAE {train_mae:.3f} - Test MAE {test_mae:.3f}')\n",
        "    \n",
        "    avg_loss = 0\n",
        "    count = 0\n",
        "    model.train()\n",
        "    for i, (x, y) in enumerate(train_dl):\n",
        "        x, y = x.to(device), y.to(device)\n",
        "        opt.zero_grad()\n",
        "        y_pred = model(x)\n",
        "        loss = loss_fun(y_pred, y)\n",
        "        avg_loss += loss.cpu().detach().numpy().item()\n",
        "        if i % 10 == 0:\n",
        "            print(f'loss {loss.cpu().item():.3f}')\n",
        "        loss.backward()\n",
        "        opt.step()\n",
        "        count += 1\n",
        "    avg_loss /= count\n",
        "    losses.append(avg_loss)\n",
        "plot_scores(train_maes, test_maes, losses)"
      ]
    },
    {
      "cell_type": "code",
      "execution_count": null,
      "metadata": {},
      "outputs": [],
      "source": [
        "with torch.no_grad():\n",
        "    index = 290\n",
        "    src = torch.from_numpy(yahoo_testset.to_numpy()[index:(index + window_len), :]).to(torch.float32).unsqueeze(0)\n",
        "    index += 1\n",
        "    trg = torch.from_numpy(yahoo_testset.to_numpy()[index:(index + window_len), yahoo_class_idx]).to(torch.float32).unsqueeze(0).unsqueeze(-1)\n",
        "    out = model(src.to(device))\n",
        "    plt.figure(figsize=(15,6))\n",
        "    # src_rec = scaler.inverse_transform(src[0, :, yahoo_class_idx])\n",
        "    # trg_rec = scaler.inverse_transform(trg[0, :, 0])\n",
        "    # out_rec = scaler.inverse_transform(out[0, :, 0])\n",
        "    src = src[0, :, yahoo_class_idx].tolist()\n",
        "    trg = trg[0, :, 0].tolist()\n",
        "    out = out[0, :, 0].tolist()\n",
        "    plt.plot(src, '-', color = 'green', label = 'Src', linewidth=2)\n",
        "    plt.plot(trg, '-', color = 'blue', label = 'Target', linewidth=2)\n",
        "    plt.plot(out, '--', color = 'red', label = 'Prediction', linewidth=2)\n",
        "    plt.show()"
      ]
    },
    {
      "cell_type": "code",
      "execution_count": null,
      "metadata": {},
      "outputs": [],
      "source": []
    }
  ],
  "metadata": {
    "accelerator": "GPU",
    "colab": {
      "collapsed_sections": [],
      "provenance": []
    },
    "kernelspec": {
      "display_name": "Python 3.8.8 ('base')",
      "language": "python",
      "name": "python3"
    },
    "language_info": {
      "codemirror_mode": {
        "name": "ipython",
        "version": 3
      },
      "file_extension": ".py",
      "mimetype": "text/x-python",
      "name": "python",
      "nbconvert_exporter": "python",
      "pygments_lexer": "ipython3",
      "version": "3.8.8"
    },
    "orig_nbformat": 4,
    "vscode": {
      "interpreter": {
        "hash": "9ac88fb7088578c98ddf37923d050ab762e45c42e2a44ad2a5e146f45afe37fd"
      }
    }
  },
  "nbformat": 4,
  "nbformat_minor": 0
}
