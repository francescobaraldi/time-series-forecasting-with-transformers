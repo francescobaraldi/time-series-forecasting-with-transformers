{
  "cells": [
    {
      "cell_type": "code",
      "execution_count": null,
      "metadata": {
        "id": "m1d36dtwULp6"
      },
      "outputs": [],
      "source": [
        "# === colab configuration ===\n",
        "# Skip this cell if running demo file locally!\n",
        "\n",
        "from google.colab import drive\n",
        "import sys\n",
        "\n",
        "# setting paths\n",
        "repository_path = '/content/time-series-forecasting-with-transformers/'\n",
        "datasets_path = repository_path + 'datasets/'\n",
        "sys.path.insert(0, repository_path)\n",
        "\n",
        "# cloning project repository and downloading dataset\n",
        "drive.mount('/content/drive')\n",
        "! test ! -d $repository_path && git clone https://github.com/francescobaraldi/time-series-forecasting-with-transformers\n",
        "# ! test ! -d $dataset_path && cp -R $dataset_path_drive $dataset_path\n",
        "%cd $repository_path\n",
        "\n",
        "# setting branch and pulling updates\n",
        "branch = 'main'\n",
        "! git checkout $branch\n",
        "! git pull origin $branch\n",
        "\n",
        "executing_on_colab = True"
      ]
    },
    {
      "cell_type": "code",
      "execution_count": 1,
      "metadata": {
        "id": "5e2HPlH_ULp8"
      },
      "outputs": [],
      "source": [
        "import torch\n",
        "import torch.nn as nn\n",
        "import torch.optim as optim\n",
        "\n",
        "from dataset import YahooDataset\n",
        "from model import TransformerDecoder\n",
        "from eval import eval_mae_singlestep, eval_mae_multistep\n",
        "from train import train_model_singlestep, train_model_multistep, train_and_test_model\n",
        "from test import test_singlestep, test_multistep\n",
        "\n",
        "try:\n",
        "    executing_on_colab\n",
        "except NameError:\n",
        "    executing_on_colab = False"
      ]
    },
    {
      "cell_type": "markdown",
      "metadata": {},
      "source": [
        "## Set dataset paths"
      ]
    },
    {
      "cell_type": "code",
      "execution_count": 2,
      "metadata": {
        "colab": {
          "base_uri": "https://localhost:8080/",
          "height": 269
        },
        "id": "emmorBdRULp-",
        "outputId": "a734d8aa-d3ae-4522-b997-340abe858972"
      },
      "outputs": [],
      "source": [
        "if not executing_on_colab:\n",
        "    sp500_dataset_path = \"datasets/spx.csv\"\n",
        "    yahoo_dataset_path = \"datasets/yahoo_stock.csv\"\n",
        "    predictions_path = \"predictions/\"\n",
        "    training_results_path = \"training_results/\"\n",
        "else:\n",
        "    sp500_dataset_path = datasets_path + \"spx.csv\"\n",
        "    yahoo_dataset_path = datasets_path + \"yahoo_stock.csv\"\n",
        "    predictions_path = \"/content/drive/My Drive/time-series-forecasting-with-transformers/predictions/\"\n",
        "    training_results_path = \"/content/drive/My Drive/time-series-forecasting-with-transformers/training_results/\""
      ]
    },
    {
      "cell_type": "markdown",
      "metadata": {},
      "source": [
        "## Transformer decoder"
      ]
    },
    {
      "cell_type": "code",
      "execution_count": null,
      "metadata": {},
      "outputs": [],
      "source": [
        "model_type = \"decoder\"\n",
        "\n",
        "step_type = \"singlestep\"\n",
        "positional_encoding = \"none\"\n",
        "batch_size = 32\n",
        "learning_rate = 0.001\n",
        "window_len = 365\n",
        "forecast_len = 30\n",
        "input_size = 5\n",
        "output_size = 1\n",
        "train_dataset = YahooDataset(dataset_path=yahoo_dataset_path, window_len=window_len, forecast_len=forecast_len,\n",
        "                             positional_encoding=positional_encoding, train=True)\n",
        "scaler = train_dataset.get_scaler()\n",
        "test_dataset = YahooDataset(dataset_path=yahoo_dataset_path, window_len=window_len, forecast_len=forecast_len,\n",
        "                            positional_encoding=positional_encoding, train=False, scaler=scaler)\n",
        "model_cls = TransformerDecoder\n",
        "loss_fn = nn.MSELoss()\n",
        "optim_cls = optim.Adam\n",
        "train_fn = train_model_singlestep\n",
        "test_fn = test_singlestep\n",
        "eval_fn = eval_mae_singlestep\n",
        "\n",
        "num_epochs = [100]\n",
        "num_layers = [1]\n",
        "d_models = [128]\n",
        "num_heads = [8]\n",
        "dropouts = [0]\n",
        "feedforward_dims = [512]\n",
        "for num_epoch in num_epochs:\n",
        "    for num_layer in num_layers:\n",
        "        for d_model in d_models:\n",
        "            for num_head in num_heads:\n",
        "                for dropout in dropouts:\n",
        "                    for feedforward_dim in feedforward_dims:\n",
        "                        train_and_test_model(batch_size=batch_size, learning_rate=learning_rate, num_epochs=num_epoch,\n",
        "                                             window_len=window_len, forecast_len=forecast_len, input_size=input_size,\n",
        "                                             output_size=output_size, d_model=d_model, num_heads=num_head,\n",
        "                                             num_layers=num_layer, dropout=dropout, feedforward_dim=feedforward_dim,\n",
        "                                             positional_encoding=positional_encoding, train_dataset=train_dataset,\n",
        "                                             test_dataset=test_dataset, model_cls=model_cls, loss_fn=loss_fn,\n",
        "                                             optim_cls=optim_cls, train_fn=train_fn, test_fn=test_fn, eval_fn=eval_fn,\n",
        "                                             training_results_path=training_results_path, predictions_path=predictions_path,\n",
        "                                             model_type=model_type, step_type=step_type)"
      ]
    },
    {
      "cell_type": "markdown",
      "metadata": {},
      "source": [
        "## LSTM model"
      ]
    },
    {
      "cell_type": "code",
      "execution_count": null,
      "metadata": {},
      "outputs": [],
      "source": [
        "# TODO"
      ]
    }
  ],
  "metadata": {
    "accelerator": "GPU",
    "colab": {
      "collapsed_sections": [],
      "provenance": []
    },
    "kernelspec": {
      "display_name": "Python 3.8.8 ('base')",
      "language": "python",
      "name": "python3"
    },
    "language_info": {
      "codemirror_mode": {
        "name": "ipython",
        "version": 3
      },
      "file_extension": ".py",
      "mimetype": "text/x-python",
      "name": "python",
      "nbconvert_exporter": "python",
      "pygments_lexer": "ipython3",
      "version": "3.8.8"
    },
    "orig_nbformat": 4,
    "vscode": {
      "interpreter": {
        "hash": "9ac88fb7088578c98ddf37923d050ab762e45c42e2a44ad2a5e146f45afe37fd"
      }
    }
  },
  "nbformat": 4,
  "nbformat_minor": 0
}
