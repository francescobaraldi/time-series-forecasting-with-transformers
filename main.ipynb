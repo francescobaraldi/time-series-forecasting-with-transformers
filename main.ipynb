{
  "cells": [
    {
      "cell_type": "code",
      "execution_count": null,
      "metadata": {
        "id": "m1d36dtwULp6"
      },
      "outputs": [],
      "source": [
        "# === colab configuration ===\n",
        "# Skip this cell if running demo file locally!\n",
        "\n",
        "from google.colab import drive\n",
        "import sys\n",
        "\n",
        "# setting paths\n",
        "repository_path = '/content/time-series-forecasting-with-transformers/'\n",
        "datasets_path = repository_path + 'datasets/'\n",
        "sys.path.insert(0, repository_path)\n",
        "\n",
        "# cloning project repository and downloading dataset\n",
        "drive.mount('/content/drive')\n",
        "! test ! -d $repository_path && git clone https://github.com/francescobaraldi/time-series-forecasting-with-transformers\n",
        "# ! test ! -d $dataset_path && cp -R $dataset_path_drive $dataset_path\n",
        "%cd $repository_path\n",
        "\n",
        "# setting branch and pulling updates\n",
        "branch = 'main'\n",
        "! git checkout $branch\n",
        "! git pull origin $branch\n",
        "\n",
        "executing_on_colab = True"
      ]
    },
    {
      "cell_type": "code",
      "execution_count": null,
      "metadata": {
        "id": "5e2HPlH_ULp8"
      },
      "outputs": [],
      "source": [
        "import torch\n",
        "import torch.nn as nn\n",
        "import torch.optim as optim\n",
        "from torch.utils.data import DataLoader\n",
        "\n",
        "from dataset import SP500Dataset, YahooDataset, YahooDataset2, YahooDatasetStd\n",
        "from model import Transformer, TransformerDecoder, TransformerDecoder_v2, WeatherLSTM\n",
        "from eval import eval_mae, eval_mae2, eval_mae_std\n",
        "from plot import plot_scores\n",
        "from train import train_model, train_model2, train_model_std\n",
        "from test import test, test2, test_std\n",
        "\n",
        "try:\n",
        "    executing_on_colab\n",
        "except NameError:\n",
        "    executing_on_colab = False"
      ]
    },
    {
      "cell_type": "markdown",
      "metadata": {},
      "source": [
        "## Set dataset paths"
      ]
    },
    {
      "cell_type": "code",
      "execution_count": null,
      "metadata": {
        "colab": {
          "base_uri": "https://localhost:8080/",
          "height": 269
        },
        "id": "emmorBdRULp-",
        "outputId": "a734d8aa-d3ae-4522-b997-340abe858972"
      },
      "outputs": [],
      "source": [
        "if not executing_on_colab:\n",
        "    sp500_dataset_path = \"datasets/spx.csv\"\n",
        "    yahoo_dataset_path = \"datasets/yahoo_stock.csv\"\n",
        "    predictions_path = \"predictions/\"\n",
        "    training_results_path = \"training_results/\"\n",
        "else:\n",
        "    sp500_dataset_path = datasets_path + \"spx.csv\"\n",
        "    yahoo_dataset_path = datasets_path + \"yahoo_stock.csv\"\n",
        "    predictions_path = \"/content/drive/My Drive/time-series-forecasting-with-transformers/predictions/\"\n",
        "    training_results_path = \"/content/drive/My Drive/time-series-forecasting-with-transformers/training_results/\""
      ]
    },
    {
      "cell_type": "markdown",
      "metadata": {},
      "source": [
        "## Transformer std."
      ]
    },
    {
      "cell_type": "code",
      "execution_count": null,
      "metadata": {
        "colab": {
          "base_uri": "https://localhost:8080/",
          "height": 1000
        },
        "id": "uVjAhyuTULp_",
        "outputId": "92affde7-8da9-4955-ea12-4cf736fc24d4"
      },
      "outputs": [],
      "source": [
        "device = 'cuda' if torch.cuda.is_available() else 'cpu'\n",
        "batch_size = 1\n",
        "learning_rate = 0.001\n",
        "num_epochs = 10\n",
        "window_len = 365\n",
        "forecast_len = 60\n",
        "input_size = 5\n",
        "num_layer = 1\n",
        "output_size = 1\n",
        "d_model = 32\n",
        "dropout = 0\n",
        "\n",
        "train_dataset = YahooDatasetStd(yahoo_dataset_path, window_len, forecast_len, train=True)\n",
        "scaler = train_dataset.get_scaler()\n",
        "test_dataset = YahooDatasetStd(yahoo_dataset_path, window_len, forecast_len, train=False, scaler=scaler)\n",
        "train_dl = DataLoader(train_dataset, batch_size=batch_size, shuffle=True, drop_last=True)\n",
        "test_dl = DataLoader(test_dataset, batch_size=batch_size, shuffle=False, drop_last=True)\n",
        "\n",
        "model = Transformer(seq_len=window_len, num_encoder=num_layer, num_decoder=num_layer, input_size=input_size, output_size=output_size, d_model=d_model, num_heads=d_model, feedforward_dim=64, dropout=dropout).to(device)\n",
        "loss_fn = nn.L1Loss()\n",
        "optimizer = optim.Adam(model.parameters(), lr=learning_rate)\n",
        "\n",
        "model, results = train_model_std(device, model, train_dl, test_dl, num_epochs, loss_fn, eval_mae_std, optimizer)\n",
        "\n",
        "plot_scores(results['train_scores'], results['test_scores'], results['losses'], training_results_path + \"transformer\" + \"/\")\n",
        "test_std(device, model, test_dl, forecast_len, scaler, save_path=predictions_path + \"transformer\" + \"/\")"
      ]
    },
    {
      "cell_type": "markdown",
      "metadata": {},
      "source": [
        "## Transformer decoder"
      ]
    },
    {
      "cell_type": "code",
      "execution_count": null,
      "metadata": {},
      "outputs": [],
      "source": [
        "device = 'cuda' if torch.cuda.is_available() else 'cpu'\n",
        "batch_size = 1\n",
        "learning_rate = 0.001\n",
        "num_epochs = 1\n",
        "window_len = 365\n",
        "forecast_len = 60\n",
        "input_size = 5\n",
        "num_layer = 1\n",
        "output_size = 1\n",
        "d_model = 32\n",
        "dropout = 0\n",
        "\n",
        "train_dataset = YahooDataset2(yahoo_dataset_path, window_len, forecast_len, train=True)\n",
        "scaler = train_dataset.get_scaler()\n",
        "test_dataset = YahooDataset2(yahoo_dataset_path, window_len, forecast_len, train=False, scaler=scaler)\n",
        "train_dl = DataLoader(train_dataset, batch_size=batch_size, shuffle=True, drop_last=True)\n",
        "test_dl = DataLoader(test_dataset, batch_size=batch_size, shuffle=False, drop_last=True)\n",
        "\n",
        "model = TransformerDecoder(seq_len=window_len, num_layer=num_layer, input_size=input_size, output_size=output_size, d_model=d_model, num_heads=d_model, feedforward_dim=64, dropout=dropout).to(device)\n",
        "loss_fn = nn.L1Loss()\n",
        "optimizer = optim.Adam(model.parameters(), lr=learning_rate)\n",
        "\n",
        "model, results = train_model2(device, model, train_dl, test_dl, num_epochs, loss_fn, eval_mae2, optimizer)\n",
        "\n",
        "plot_scores(results['train_scores'], results['test_scores'], results['losses'], training_results_path + \"decoder\" + \"/\")\n",
        "test2(device, model, test_dl, forecast_len, scaler, save_path=predictions_path + \"decoder\" + \"/\")"
      ]
    },
    {
      "cell_type": "markdown",
      "metadata": {},
      "source": [
        "## Transformer decoder v2"
      ]
    },
    {
      "cell_type": "code",
      "execution_count": null,
      "metadata": {},
      "outputs": [],
      "source": [
        "device = 'cuda' if torch.cuda.is_available() else 'cpu'\n",
        "batch_size = 1\n",
        "learning_rate = 0.001\n",
        "num_epochs = 10\n",
        "window_len = 360\n",
        "forecast_len = 60\n",
        "input_size = 5\n",
        "num_layer = 1\n",
        "output_size = 1\n",
        "dropout = 0\n",
        "\n",
        "train_dataset = YahooDataset2(yahoo_dataset_path, window_len, forecast_len, train=True)\n",
        "scaler = train_dataset.get_scaler()\n",
        "test_dataset = YahooDataset2(yahoo_dataset_path, window_len, forecast_len, train=False, scaler=scaler)\n",
        "train_dl = DataLoader(train_dataset, batch_size=batch_size, shuffle=True, drop_last=True)\n",
        "test_dl = DataLoader(test_dataset, batch_size=batch_size, shuffle=False, drop_last=True)\n",
        "\n",
        "model = TransformerDecoder_v2(seq_len=window_len, num_layer=num_layer, input_size=input_size, output_size=output_size, num_heads=input_size, feedforward_dim=2048, dropout=dropout).to(device)\n",
        "loss_fn = nn.L1Loss()\n",
        "optimizer = optim.Adam(model.parameters(), lr=learning_rate)\n",
        "\n",
        "model, results = train_model2(device, model, train_dl, test_dl, num_epochs, loss_fn, eval_mae2, optimizer)\n",
        "\n",
        "plot_scores(results['train_scores'], results['test_scores'], results['losses'], training_results_path + \"decoder_v2\" + \"/\")\n",
        "test2(device, model, test_dl, forecast_len, scaler, save_path=predictions_path + \"decoder_v2\" + \"/\")"
      ]
    },
    {
      "cell_type": "markdown",
      "metadata": {},
      "source": [
        "## LSTM model"
      ]
    },
    {
      "cell_type": "code",
      "execution_count": null,
      "metadata": {},
      "outputs": [],
      "source": [
        "# TODO"
      ]
    }
  ],
  "metadata": {
    "accelerator": "GPU",
    "colab": {
      "collapsed_sections": [],
      "provenance": []
    },
    "kernelspec": {
      "display_name": "Python 3.8.8 ('base')",
      "language": "python",
      "name": "python3"
    },
    "language_info": {
      "codemirror_mode": {
        "name": "ipython",
        "version": 3
      },
      "file_extension": ".py",
      "mimetype": "text/x-python",
      "name": "python",
      "nbconvert_exporter": "python",
      "pygments_lexer": "ipython3",
      "version": "3.8.8"
    },
    "orig_nbformat": 4,
    "vscode": {
      "interpreter": {
        "hash": "9ac88fb7088578c98ddf37923d050ab762e45c42e2a44ad2a5e146f45afe37fd"
      }
    }
  },
  "nbformat": 4,
  "nbformat_minor": 0
}
