{
  "cells": [
    {
      "cell_type": "code",
      "execution_count": null,
      "metadata": {
        "id": "m1d36dtwULp6"
      },
      "outputs": [],
      "source": [
        "# === colab configuration ===\n",
        "# Skip this cell if running demo file locally!\n",
        "\n",
        "from google.colab import drive\n",
        "import sys\n",
        "\n",
        "# setting paths\n",
        "repository_path = '/content/time-series-forecasting-with-transformers/'\n",
        "datasets_path = repository_path + 'datasets/'\n",
        "sys.path.insert(0, repository_path)\n",
        "\n",
        "# cloning project repository and downloading dataset\n",
        "drive.mount('/content/drive')\n",
        "! test ! -d $repository_path && git clone https://github.com/francescobaraldi/time-series-forecasting-with-transformers\n",
        "# ! test ! -d $dataset_path && cp -R $dataset_path_drive $dataset_path\n",
        "%cd $repository_path\n",
        "\n",
        "# setting branch and pulling updates\n",
        "branch = 'test'\n",
        "! git checkout $branch\n",
        "! git pull origin $branch\n",
        "\n",
        "executing_on_colab = True"
      ]
    },
    {
      "cell_type": "code",
      "execution_count": 1,
      "metadata": {
        "id": "5e2HPlH_ULp8"
      },
      "outputs": [],
      "source": [
        "import torch.nn as nn\n",
        "import torch.optim as optim\n",
        "import joblib\n",
        "\n",
        "from dataset import YahooDataset\n",
        "from model import StockTransformerDecoder, StockTransformer, StockLSTM\n",
        "from eval import eval_transformer_decoder, eval_transformer, eval_lstm\n",
        "from train import train_transformer_decoder, train_transformer, train_lstm, train_and_test_model\n",
        "from test import test_transformer_decoder, test_transformer, test_lstm\n",
        "\n",
        "try:\n",
        "    executing_on_colab\n",
        "except NameError:\n",
        "    executing_on_colab = False"
      ]
    },
    {
      "cell_type": "markdown",
      "metadata": {},
      "source": [
        "## Set dataset paths"
      ]
    },
    {
      "cell_type": "code",
      "execution_count": 2,
      "metadata": {
        "colab": {
          "base_uri": "https://localhost:8080/",
          "height": 269
        },
        "id": "emmorBdRULp-",
        "outputId": "a734d8aa-d3ae-4522-b997-340abe858972"
      },
      "outputs": [],
      "source": [
        "if not executing_on_colab:\n",
        "    yahoo_dataset_path = \"datasets/yahoo_sp500.csv\"\n",
        "    predictions_path = \"predictions/\"\n",
        "    training_results_path = \"training_results/\"\n",
        "    weights_path = \"weights/\"\n",
        "else:\n",
        "    yahoo_dataset_path = datasets_path + \"yahoo_sp500.csv\"\n",
        "    predictions_path = \"/content/drive/My Drive/time-series-forecasting-with-transformers/predictions/\"\n",
        "    training_results_path = \"/content/drive/My Drive/time-series-forecasting-with-transformers/training_results/\"\n",
        "    weights_path = \"/content/drive/My Drive/time-series-forecasting-with-transformers/weights/\""
      ]
    },
    {
      "cell_type": "markdown",
      "metadata": {},
      "source": [
        "## Create models dictionary"
      ]
    },
    {
      "cell_type": "code",
      "execution_count": null,
      "metadata": {},
      "outputs": [],
      "source": [
        "models_dict = {\n",
        "    'transformer_decoder': {\n",
        "        'model_cls': StockTransformerDecoder,\n",
        "        'train_fn': train_transformer_decoder,\n",
        "        'test_fn': test_transformer_decoder,\n",
        "        'eval_fn': eval_transformer_decoder,\n",
        "    },\n",
        "    'transformer': {\n",
        "        'model_cls': StockTransformer,\n",
        "        'train_fn': train_transformer,\n",
        "        'test_fn': test_transformer,\n",
        "        'eval_fn': eval_transformer,\n",
        "    },\n",
        "    'lstm': {\n",
        "        'model_cls': StockLSTM,\n",
        "        'train_fn': train_lstm,\n",
        "        'test_fn': test_lstm,\n",
        "        'eval_fn': eval_lstm,\n",
        "    },\n",
        "}"
      ]
    },
    {
      "cell_type": "markdown",
      "metadata": {},
      "source": [
        "## Transformer decoder model"
      ]
    },
    {
      "cell_type": "code",
      "execution_count": null,
      "metadata": {},
      "outputs": [],
      "source": [
        "model_type = \"transformer_decoder\"\n",
        "\n",
        "positional_encoding = \"sinusoidal\"\n",
        "    \n",
        "num_epochs = 200\n",
        "batch_size = 64\n",
        "learning_rate = 1e-05\n",
        "weight_decay = 1e-04\n",
        "window_len = 90\n",
        "forecast_len = 30\n",
        "input_size = 1\n",
        "output_size = 1\n",
        "\n",
        "train_rate = 0.7\n",
        "train_dataset = YahooDataset(dataset_path=yahoo_dataset_path, window_len=window_len, forecast_len=forecast_len, train=True,\n",
        "                             train_rate=train_rate)\n",
        "scaler = train_dataset.get_scaler()\n",
        "joblib.dump(scaler, f\"{weights_path}scaler_split_{int(train_rate*100)}.gz\")\n",
        "test_dataset = YahooDataset(dataset_path=yahoo_dataset_path, window_len=window_len, forecast_len=forecast_len, train=False,\n",
        "                            train_rate=train_rate, scaler=scaler)\n",
        "\n",
        "loss_fn = nn.MSELoss()\n",
        "optim_cls = optim.Adam\n",
        "eval_name = \"mae\"\n",
        "model_dict = models_dict[model_type]\n",
        "\n",
        "num_layers = [1]\n",
        "d_models = [128]\n",
        "num_heads = [8]\n",
        "dropouts = [0]\n",
        "feedforward_dims = [256]\n",
        "for num_layer in num_layers:\n",
        "    for d_model in d_models:\n",
        "        for num_head in num_heads:\n",
        "            for dropout in dropouts:\n",
        "                for feedforward_dim in feedforward_dims:\n",
        "                    model_args = {\n",
        "                        'window_len': window_len,\n",
        "                        'num_layers': num_layer,\n",
        "                        'input_size': input_size,\n",
        "                        'output_size': output_size,\n",
        "                        'd_model': d_model,\n",
        "                        'num_heads': num_head,\n",
        "                        'feedforward_dim': feedforward_dim,\n",
        "                        'dropout': dropout,\n",
        "                        'positional_encoding': positional_encoding,\n",
        "                    }\n",
        "                    train_and_test_model(batch_size=batch_size, learning_rate=learning_rate, weight_decay=weight_decay,\n",
        "                                         num_epochs=num_epochs, forecast_len=forecast_len, train_dataset=train_dataset,\n",
        "                                         test_dataset=test_dataset, model_cls=model_dict['model_cls'], loss_fn=loss_fn,\n",
        "                                         optim_cls=optim_cls, train_fn=model_dict['train_fn'], test_fn=model_dict['test_fn'],\n",
        "                                         eval_fn=model_dict['eval_fn'], training_results_path=training_results_path,\n",
        "                                         predictions_path=predictions_path, weights_path=weights_path, model_type=model_type,\n",
        "                                         eval_name=eval_name, model_args=model_args)"
      ]
    },
    {
      "cell_type": "markdown",
      "metadata": {},
      "source": [
        "## Transformer model"
      ]
    },
    {
      "cell_type": "code",
      "execution_count": null,
      "metadata": {},
      "outputs": [],
      "source": [
        "model_type = \"transformer\"\n",
        "\n",
        "positional_encoding = \"sinusoidal\"\n",
        "    \n",
        "num_epochs = 200\n",
        "batch_size = 64\n",
        "learning_rate = 1e-05\n",
        "weight_decay = 1e-04\n",
        "window_len = 90\n",
        "forecast_len = 30\n",
        "input_size = 1\n",
        "output_size = 1\n",
        "\n",
        "train_rate = 0.7\n",
        "train_dataset = YahooDataset(dataset_path=yahoo_dataset_path, window_len=window_len, forecast_len=forecast_len, train=True,\n",
        "                             train_rate=train_rate)\n",
        "scaler = train_dataset.get_scaler()\n",
        "joblib.dump(scaler, f\"{weights_path}scaler_split_{int(train_rate*100)}.gz\")\n",
        "test_dataset = YahooDataset(dataset_path=yahoo_dataset_path, window_len=window_len, forecast_len=forecast_len, train=False,\n",
        "                            train_rate=train_rate, scaler=scaler)\n",
        "\n",
        "loss_fn = nn.MSELoss()\n",
        "optim_cls = optim.Adam\n",
        "eval_name = \"mae\"\n",
        "model_dict = models_dict[model_type]\n",
        "\n",
        "num_layers = [1]\n",
        "d_models = [128]\n",
        "num_heads = [8]\n",
        "dropouts = [0]\n",
        "feedforward_dims = [256]\n",
        "for num_layer in num_layers:\n",
        "    for d_model in d_models:\n",
        "        for num_head in num_heads:\n",
        "            for dropout in dropouts:\n",
        "                for feedforward_dim in feedforward_dims:\n",
        "                    model_args = {\n",
        "                        'window_len': window_len,\n",
        "                        'target_len': forecast_len,\n",
        "                        'num_encoder_layers': num_layer,\n",
        "                        'num_decoder_layers': num_layer,\n",
        "                        'input_size': input_size,\n",
        "                        'output_size': output_size,\n",
        "                        'd_model': d_model,\n",
        "                        'num_heads': num_head,\n",
        "                        'feedforward_dim': feedforward_dim,\n",
        "                        'dropout': dropout,\n",
        "                        'positional_encoding': positional_encoding,\n",
        "                    }\n",
        "                    train_and_test_model(batch_size=batch_size, learning_rate=learning_rate, weight_decay=weight_decay,\n",
        "                                         num_epochs=num_epochs, forecast_len=forecast_len, train_dataset=train_dataset,\n",
        "                                         test_dataset=test_dataset, model_cls=model_dict['model_cls'], loss_fn=loss_fn,\n",
        "                                         optim_cls=optim_cls, train_fn=model_dict['train_fn'], test_fn=model_dict['test_fn'],\n",
        "                                         eval_fn=model_dict['eval_fn'], training_results_path=training_results_path,\n",
        "                                         predictions_path=predictions_path, weights_path=weights_path, model_type=model_type,\n",
        "                                         eval_name=eval_name, model_args=model_args)"
      ]
    },
    {
      "cell_type": "markdown",
      "metadata": {},
      "source": [
        "## LSTM model"
      ]
    },
    {
      "cell_type": "code",
      "execution_count": null,
      "metadata": {},
      "outputs": [],
      "source": [
        "model_type = \"lstm\"\n",
        "\n",
        "num_epochs = 800\n",
        "batch_size = 64\n",
        "learning_rate = 1e-05\n",
        "weight_decay = 1e-04\n",
        "window_len = 90\n",
        "forecast_len = 30\n",
        "input_size = 1\n",
        "output_size = 1\n",
        "\n",
        "train_rate = 0.7\n",
        "train_dataset = YahooDataset(dataset_path=yahoo_dataset_path, window_len=window_len, forecast_len=forecast_len, train=True,\n",
        "                             train_rate=train_rate)\n",
        "scaler = train_dataset.get_scaler()\n",
        "joblib.dump(scaler, f\"{weights_path}scaler_split_{int(train_rate*100)}.gz\")\n",
        "test_dataset = YahooDataset(dataset_path=yahoo_dataset_path, window_len=window_len, forecast_len=forecast_len, train=False,\n",
        "                            train_rate=train_rate, scaler=scaler)\n",
        "\n",
        "loss_fn = nn.MSELoss()\n",
        "optim_cls = optim.Adam\n",
        "eval_name = \"mae\"\n",
        "model_dict = models_dict[model_type]\n",
        "\n",
        "num_layers = [2]\n",
        "hidden_dims = [64]\n",
        "dropouts = [0]\n",
        "for num_layer in num_layers:\n",
        "    for hidden_dim in hidden_dims:\n",
        "        for dropout in dropouts:\n",
        "            model_args = {\n",
        "                'input_size': input_size,\n",
        "                'hidden_dim': hidden_dim,\n",
        "                'output_size': output_size,\n",
        "                'num_layers': num_layer,\n",
        "                'dropout': dropout\n",
        "            }\n",
        "            train_and_test_model(batch_size=batch_size, learning_rate=learning_rate, weight_decay=weight_decay,\n",
        "                                         num_epochs=num_epochs, forecast_len=forecast_len, train_dataset=train_dataset,\n",
        "                                         test_dataset=test_dataset, model_cls=model_dict['model_cls'], loss_fn=loss_fn,\n",
        "                                         optim_cls=optim_cls, train_fn=model_dict['train_fn'], test_fn=model_dict['test_fn'],\n",
        "                                         eval_fn=model_dict['eval_fn'], training_results_path=training_results_path,\n",
        "                                         predictions_path=predictions_path, weights_path=weights_path, model_type=model_type,\n",
        "                                         eval_name=eval_name, model_args=model_args)"
      ]
    }
  ],
  "metadata": {
    "accelerator": "GPU",
    "colab": {
      "collapsed_sections": [],
      "provenance": []
    },
    "kernelspec": {
      "display_name": "Python 3.8.8 ('base')",
      "language": "python",
      "name": "python3"
    },
    "language_info": {
      "codemirror_mode": {
        "name": "ipython",
        "version": 3
      },
      "file_extension": ".py",
      "mimetype": "text/x-python",
      "name": "python",
      "nbconvert_exporter": "python",
      "pygments_lexer": "ipython3",
      "version": "3.8.8"
    },
    "orig_nbformat": 4,
    "vscode": {
      "interpreter": {
        "hash": "9ac88fb7088578c98ddf37923d050ab762e45c42e2a44ad2a5e146f45afe37fd"
      }
    }
  },
  "nbformat": 4,
  "nbformat_minor": 0
}
